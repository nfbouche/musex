{
 "cells": [
  {
   "cell_type": "markdown",
   "metadata": {},
   "source": [
    "# Tutorial - with a Photutils catalog"
   ]
  },
  {
   "cell_type": "code",
   "execution_count": null,
   "metadata": {
    "ExecuteTime": {
     "end_time": "2018-02-05T11:23:00.048782Z",
     "start_time": "2018-02-05T11:22:59.794571Z"
    },
    "run_control": {
     "frozen": false,
     "read_only": false
    }
   },
   "outputs": [],
   "source": [
    "%matplotlib inline\n",
    "import matplotlib.pyplot as plt\n",
    "import os\n",
    "import tempfile"
   ]
  },
  {
   "cell_type": "markdown",
   "metadata": {},
   "source": [
    "Create a temporary directory in which all files will be stored."
   ]
  },
  {
   "cell_type": "code",
   "execution_count": null,
   "metadata": {
    "ExecuteTime": {
     "end_time": "2018-02-05T11:25:34.404562Z",
     "start_time": "2018-02-05T11:25:34.396975Z"
    }
   },
   "outputs": [],
   "source": [
    "tmpdir = tempfile.TemporaryDirectory(prefix='musex')\n",
    "tmpdir"
   ]
  },
  {
   "cell_type": "markdown",
   "metadata": {
    "run_control": {
     "frozen": false,
     "read_only": false
    }
   },
   "source": [
    "## Settings\n",
    "\n",
    "The settings are specified in a YAML file. MuseX comes with a default settings file (`musex/musex/udf/settings.yaml`) that gives a full example for the UDF, which HST priors.\n",
    "\n",
    "For this tutorial, we use the settings file from the `tests/` directory. The data inside this directory is extracted from the HDFS v1.24 datasets, and the catalog was created with [Photutils](http://photutils.readthedocs.io/)."
   ]
  },
  {
   "cell_type": "code",
   "execution_count": null,
   "metadata": {
    "ExecuteTime": {
     "end_time": "2018-02-05T11:28:32.887256Z",
     "start_time": "2018-02-05T11:28:31.716651Z"
    },
    "run_control": {
     "frozen": false,
     "read_only": false
    }
   },
   "outputs": [],
   "source": [
    "import musex"
   ]
  },
  {
   "cell_type": "code",
   "execution_count": null,
   "metadata": {
    "ExecuteTime": {
     "end_time": "2018-02-05T11:29:17.043088Z",
     "start_time": "2018-02-05T11:29:17.032662Z"
    }
   },
   "outputs": [],
   "source": [
    "DATADIR = os.path.abspath(os.path.join(os.path.dirname(musex.__file__), '..', 'tests', 'data'))\n",
    "DATADIR"
   ]
  },
  {
   "cell_type": "markdown",
   "metadata": {},
   "source": [
    "Let's create a settings file in the temp directory, with correct paths."
   ]
  },
  {
   "cell_type": "code",
   "execution_count": null,
   "metadata": {
    "ExecuteTime": {
     "end_time": "2018-02-05T11:30:56.690982Z",
     "start_time": "2018-02-05T11:30:56.673827Z"
    }
   },
   "outputs": [],
   "source": [
    "settings_file = os.path.join(tmpdir.name, 'settings.yaml')\n",
    "with open(os.path.join(DATADIR, 'settings.yaml'), 'r') as f:\n",
    "    out = f.read().format(tmpdir=tmpdir.name, datadir=DATADIR)    \n",
    "with open(settings_file, 'w') as f:\n",
    "    f.write(out)\n",
    "    \n",
    "print(out)"
   ]
  },
  {
   "cell_type": "markdown",
   "metadata": {},
   "source": [
    "## Create the MuseX object\n",
    "\n",
    "This is the main object to manage all the extraction process below. Settings can also be overridden with additional arguments."
   ]
  },
  {
   "cell_type": "code",
   "execution_count": null,
   "metadata": {
    "ExecuteTime": {
     "end_time": "2018-02-05T11:32:03.110784Z",
     "start_time": "2018-02-05T11:32:03.057362Z"
    },
    "run_control": {
     "frozen": false,
     "read_only": false
    }
   },
   "outputs": [],
   "source": [
    "mx = musex.MuseX(settings_file=settings_file, author='SCO')"
   ]
  },
  {
   "cell_type": "markdown",
   "metadata": {},
   "source": [
    "## Datasets\n",
    "\n",
    "A MuseX object can contains several *datasets*, where a `DataSet` object gathers all the data from a dataset:\n",
    "\n",
    "- For MUSE datasets: image, cube, exposure map.\n",
    "- For other datasets (e.g. HST): images, ...\n",
    "\n",
    "A MuseX object is tied to a given *Muse dataset* (`mx.muse_dataset`). The other datasets are typically added to the sources object during the extraction."
   ]
  },
  {
   "cell_type": "code",
   "execution_count": null,
   "metadata": {
    "ExecuteTime": {
     "end_time": "2018-02-05T11:35:23.038626Z",
     "start_time": "2018-02-05T11:35:23.030500Z"
    }
   },
   "outputs": [],
   "source": [
    "# The MUSE dataset\n",
    "mx.muse_dataset, mx.muse_dataset.cube"
   ]
  },
  {
   "cell_type": "code",
   "execution_count": null,
   "metadata": {
    "ExecuteTime": {
     "end_time": "2018-02-05T11:35:28.492585Z",
     "start_time": "2018-02-05T11:35:28.485518Z"
    }
   },
   "outputs": [],
   "source": [
    "# The other (additional) datasets\n",
    "mx.datasets"
   ]
  },
  {
   "cell_type": "code",
   "execution_count": null,
   "metadata": {
    "ExecuteTime": {
     "end_time": "2018-02-05T11:35:28.913702Z",
     "start_time": "2018-02-05T11:35:28.896253Z"
    }
   },
   "outputs": [],
   "source": [
    "mx.datasets['test'].images"
   ]
  },
  {
   "cell_type": "markdown",
   "metadata": {
    "run_control": {
     "frozen": false,
     "read_only": false
    }
   },
   "source": [
    "## Input Catalogs (from source detection, here Photutils)\n",
    "\n",
    "We have access to a list of input catalogs, defined in the settings file. For the example, the catalog was from the Photutils detection code."
   ]
  },
  {
   "cell_type": "code",
   "execution_count": null,
   "metadata": {
    "ExecuteTime": {
     "end_time": "2018-02-05T11:35:51.015360Z",
     "start_time": "2018-02-05T11:35:51.008584Z"
    }
   },
   "outputs": [],
   "source": [
    "mx.input_catalogs"
   ]
  },
  {
   "cell_type": "code",
   "execution_count": null,
   "metadata": {
    "ExecuteTime": {
     "end_time": "2018-02-05T11:35:53.594793Z",
     "start_time": "2018-02-05T11:35:53.589100Z"
    },
    "run_control": {
     "frozen": false,
     "read_only": false
    }
   },
   "outputs": [],
   "source": [
    "photcat = mx.input_catalogs['photutils']"
   ]
  },
  {
   "cell_type": "markdown",
   "metadata": {},
   "source": [
    "At this point, the catalog is given as a FITS file defined in the settings, and we need to load it in the database."
   ]
  },
  {
   "cell_type": "code",
   "execution_count": null,
   "metadata": {
    "ExecuteTime": {
     "end_time": "2018-02-05T11:36:30.454380Z",
     "start_time": "2018-02-05T11:36:30.341983Z"
    },
    "run_control": {
     "frozen": false,
     "read_only": false
    },
    "scrolled": false
   },
   "outputs": [],
   "source": [
    "photcat.ingest_input_catalog()"
   ]
  },
  {
   "cell_type": "code",
   "execution_count": null,
   "metadata": {
    "ExecuteTime": {
     "end_time": "2018-02-05T11:36:54.591951Z",
     "start_time": "2018-02-05T11:36:54.584609Z"
    }
   },
   "outputs": [],
   "source": [
    "photcat"
   ]
  },
  {
   "cell_type": "markdown",
   "metadata": {
    "run_control": {
     "frozen": false,
     "read_only": false
    }
   },
   "source": [
    "### See available columns, table info\n",
    "\n",
    "This gives some information about our catalog: number of rows, columns, and some metadata."
   ]
  },
  {
   "cell_type": "code",
   "execution_count": null,
   "metadata": {
    "ExecuteTime": {
     "end_time": "2018-02-05T11:36:55.378934Z",
     "start_time": "2018-02-05T11:36:55.368170Z"
    },
    "run_control": {
     "frozen": false,
     "read_only": false
    }
   },
   "outputs": [],
   "source": [
    "photcat.info()"
   ]
  },
  {
   "cell_type": "markdown",
   "metadata": {
    "run_control": {
     "frozen": false,
     "read_only": false
    }
   },
   "source": [
    "## Intro to `Catalog` objects\n",
    "\n",
    "In MuseX, `Catalog` objects are wrapping a SQL table, using the [SQLAlchemy](http://docs.sqlalchemy.org/en/latest/index.html) package. SQLAlchemy provides a Pythonic interface to the SQL language, and MuseX also provides some higher-level operations.\n",
    "\n",
    "For instance, to select in the catalog the sources with an ``ID < 5``:"
   ]
  },
  {
   "cell_type": "code",
   "execution_count": null,
   "metadata": {
    "ExecuteTime": {
     "end_time": "2018-02-05T11:37:16.161572Z",
     "start_time": "2018-02-05T11:37:16.151418Z"
    },
    "run_control": {
     "frozen": false,
     "read_only": false
    }
   },
   "outputs": [],
   "source": [
    "res = photcat.select(whereclause=photcat.c.id < 5, \n",
    "                     columns=[photcat.idname, photcat.raname, photcat.decname])\n",
    "res"
   ]
  },
  {
   "cell_type": "markdown",
   "metadata": {
    "run_control": {
     "frozen": false,
     "read_only": false
    }
   },
   "source": [
    "The result of a selection can be exported as Astropy Table (or the `mpdaf.sdetect.Catalog` wrapper by default).\n",
    "This shows the complete catalog:"
   ]
  },
  {
   "cell_type": "code",
   "execution_count": null,
   "metadata": {
    "ExecuteTime": {
     "end_time": "2018-02-05T11:38:37.993555Z",
     "start_time": "2018-02-05T11:38:37.959628Z"
    },
    "run_control": {
     "frozen": false,
     "read_only": false
    }
   },
   "outputs": [],
   "source": [
    "photcat.select().as_table()"
   ]
  },
  {
   "cell_type": "markdown",
   "metadata": {},
   "source": [
    "It is possible to do any SQL selection and choose which columns to get, using the SQLAlchemy syntax:"
   ]
  },
  {
   "cell_type": "code",
   "execution_count": null,
   "metadata": {
    "ExecuteTime": {
     "end_time": "2018-02-05T11:39:33.738829Z",
     "start_time": "2018-02-05T11:39:33.725602Z"
    }
   },
   "outputs": [],
   "source": [
    "photcat.select(whereclause=photcat.c.source_sum > 50,\n",
    "               columns=[photcat.idname, photcat.raname, photcat.decname, 'source_sum', 'area']).as_table()"
   ]
  },
  {
   "cell_type": "markdown",
   "metadata": {
    "run_control": {
     "frozen": false,
     "read_only": false
    }
   },
   "source": [
    "## User catalogs\n",
    "\n",
    "Input catalogs are kept immutable, instead users can work on a *\"user catalog\"*. \n",
    "\n",
    "User catalogs must be created with the result of a selection. The mandatory columns are `ID`, `RA` and `DEC` (the other columns from the input catalog can be accessed later with a SQL *join*)."
   ]
  },
  {
   "cell_type": "markdown",
   "metadata": {},
   "source": [
    "So we can create a user catalog named `my-cat`:"
   ]
  },
  {
   "cell_type": "code",
   "execution_count": null,
   "metadata": {
    "ExecuteTime": {
     "end_time": "2018-02-05T11:41:23.135396Z",
     "start_time": "2018-02-05T11:41:23.056681Z"
    },
    "run_control": {
     "frozen": false,
     "read_only": false
    },
    "scrolled": false
   },
   "outputs": [],
   "source": [
    "res = photcat.select(columns=[photcat.idname, photcat.raname, photcat.decname])\n",
    "mycat = mx.new_catalog_from_resultset('my-cat', res, drop_if_exists=True)"
   ]
  },
  {
   "cell_type": "markdown",
   "metadata": {
    "run_control": {
     "frozen": false,
     "read_only": false
    }
   },
   "source": [
    "And we can look at the metadata which is stored about our new user catalog:"
   ]
  },
  {
   "cell_type": "code",
   "execution_count": null,
   "metadata": {
    "ExecuteTime": {
     "end_time": "2018-02-05T11:41:58.972553Z",
     "start_time": "2018-02-05T11:41:58.957961Z"
    },
    "run_control": {
     "frozen": false,
     "read_only": false
    }
   },
   "outputs": [],
   "source": [
    "mycat.info()"
   ]
  },
  {
   "cell_type": "markdown",
   "metadata": {},
   "source": [
    "Note that the segmentation map is inherited from the parent input catalog."
   ]
  },
  {
   "cell_type": "markdown",
   "metadata": {
    "run_control": {
     "frozen": false,
     "read_only": false
    }
   },
   "source": [
    "* * * \n",
    "\n",
    "## Restart and use existing catalog (created at previous step)\n",
    "\n",
    "All of the above is a setup that has to be done only once. Then all the information is stored in the database. Let's restart with a new MuseX object to check that it works."
   ]
  },
  {
   "cell_type": "code",
   "execution_count": null,
   "metadata": {
    "ExecuteTime": {
     "end_time": "2018-02-05T11:42:53.960945Z",
     "start_time": "2018-02-05T11:42:53.925479Z"
    },
    "run_control": {
     "frozen": false,
     "read_only": false
    }
   },
   "outputs": [],
   "source": [
    "import musex\n",
    "mx = musex.MuseX(settings_file=settings_file)"
   ]
  },
  {
   "cell_type": "markdown",
   "metadata": {},
   "source": [
    "User catalogs are stored in `mx.catalogs`:"
   ]
  },
  {
   "cell_type": "code",
   "execution_count": null,
   "metadata": {
    "ExecuteTime": {
     "end_time": "2018-02-05T11:03:17.142796Z",
     "start_time": "2018-02-05T11:03:17.140384Z"
    },
    "run_control": {
     "frozen": false,
     "read_only": false
    }
   },
   "outputs": [],
   "source": [
    "mycat = mx.catalogs['my-cat']"
   ]
  },
  {
   "cell_type": "markdown",
   "metadata": {},
   "source": [
    "And we can verify that our sources are still here:"
   ]
  },
  {
   "cell_type": "code",
   "execution_count": null,
   "metadata": {
    "ExecuteTime": {
     "end_time": "2018-02-05T11:44:25.818947Z",
     "start_time": "2018-02-05T11:44:25.804175Z"
    },
    "run_control": {
     "frozen": false,
     "read_only": false
    }
   },
   "outputs": [],
   "source": [
    "mycat.select(limit=2).as_table()"
   ]
  },
  {
   "cell_type": "markdown",
   "metadata": {
    "run_control": {
     "frozen": false,
     "read_only": false
    }
   },
   "source": [
    "## Preprocessing (segmap, masks, ...)\n",
    "\n",
    "To do a proper spectrum extraction we need masks of the objects and background. These masks are pre-computed from a segmentation map, and they can be convolved to take into account the PSF of MUSE if the segmap comes from another instrument (e.g. HST).\n",
    "The masks are also aligned with the MUSE field if needed (rotated and resampled). To do this we **attach a MUSE dataset  to a user catalog**."
   ]
  },
  {
   "cell_type": "code",
   "execution_count": null,
   "metadata": {
    "ExecuteTime": {
     "end_time": "2018-02-05T11:44:37.502605Z",
     "start_time": "2018-02-05T11:44:36.983605Z"
    },
    "run_control": {
     "frozen": false,
     "read_only": false
    },
    "scrolled": false
   },
   "outputs": [],
   "source": [
    "mycat.attach_dataset(mx.muse_dataset, skip_existing=False)"
   ]
  },
  {
   "cell_type": "markdown",
   "metadata": {},
   "source": [
    "The generated files are stored in the *work directory* and are generated only if needed:"
   ]
  },
  {
   "cell_type": "code",
   "execution_count": null,
   "metadata": {
    "ExecuteTime": {
     "end_time": "2018-02-05T11:44:57.322625Z",
     "start_time": "2018-02-05T11:44:57.308369Z"
    },
    "run_control": {
     "frozen": false,
     "read_only": false
    }
   },
   "outputs": [],
   "source": [
    "print('work dir:', mycat.workdir)\n",
    "\n",
    "os.listdir(mycat.workdir / mx.muse_dataset.name)"
   ]
  },
  {
   "cell_type": "code",
   "execution_count": null,
   "metadata": {
    "ExecuteTime": {
     "end_time": "2018-02-05T11:44:58.490751Z",
     "start_time": "2018-02-05T11:44:58.465724Z"
    },
    "run_control": {
     "frozen": false,
     "read_only": false
    },
    "scrolled": false
   },
   "outputs": [],
   "source": [
    "mycat.attach_dataset(mx.muse_dataset, skip_existing=True)"
   ]
  },
  {
   "cell_type": "markdown",
   "metadata": {},
   "source": [
    "The paths to the masks are stored in the database, and can be modified later if needed (the sky mask is the same for all sources by default, but it is possible to create a sky mask specific to a given source):"
   ]
  },
  {
   "cell_type": "code",
   "execution_count": null,
   "metadata": {
    "ExecuteTime": {
     "end_time": "2018-02-05T11:46:20.300132Z",
     "start_time": "2018-02-05T11:46:20.286484Z"
    },
    "run_control": {
     "frozen": false,
     "read_only": false
    }
   },
   "outputs": [],
   "source": [
    "mycat.select(limit=2).as_table()"
   ]
  },
  {
   "cell_type": "markdown",
   "metadata": {
    "run_control": {
     "frozen": false,
     "read_only": false
    }
   },
   "source": [
    "## MarZ export and import"
   ]
  },
  {
   "cell_type": "markdown",
   "metadata": {
    "run_control": {
     "frozen": false,
     "read_only": false
    }
   },
   "source": [
    "First, we need to set the `REFSPEC` column to tell which spectrum must be used : (this may change later to allow more flexibility, currently it is possible to set a `refspec` value for each source)."
   ]
  },
  {
   "cell_type": "code",
   "execution_count": null,
   "metadata": {
    "ExecuteTime": {
     "end_time": "2018-02-05T11:47:19.482854Z",
     "start_time": "2018-02-05T11:47:19.458222Z"
    },
    "run_control": {
     "frozen": false,
     "read_only": false
    }
   },
   "outputs": [],
   "source": [
    "mycat.update_column('refspec', 'MUSE_PSF_SKYSUB')"
   ]
  },
  {
   "cell_type": "code",
   "execution_count": null,
   "metadata": {
    "ExecuteTime": {
     "end_time": "2018-02-05T11:47:30.466393Z",
     "start_time": "2018-02-05T11:47:28.185743Z"
    },
    "run_control": {
     "frozen": false,
     "read_only": false
    },
    "scrolled": false
   },
   "outputs": [],
   "source": [
    "mx.export_marz(mycat)"
   ]
  },
  {
   "cell_type": "markdown",
   "metadata": {
    "run_control": {
     "frozen": false,
     "read_only": false
    }
   },
   "source": [
    "Once the spectra have been processed in MarZ, the results file can be ingested into MuseX:"
   ]
  },
  {
   "cell_type": "code",
   "execution_count": null,
   "metadata": {
    "ExecuteTime": {
     "end_time": "2018-02-05T11:55:42.360600Z",
     "start_time": "2018-02-05T11:55:42.268309Z"
    },
    "run_control": {
     "frozen": false,
     "read_only": false
    },
    "scrolled": false
   },
   "outputs": [],
   "source": [
    "mx.import_marz(os.path.join(DATADIR, 'marz-my-cat-hdfs_full_SCO.mz'), mycat)"
   ]
  },
  {
   "cell_type": "code",
   "execution_count": null,
   "metadata": {
    "ExecuteTime": {
     "end_time": "2018-02-05T11:55:43.953944Z",
     "start_time": "2018-02-05T11:55:43.945164Z"
    },
    "run_control": {
     "frozen": false,
     "read_only": false
    }
   },
   "outputs": [],
   "source": [
    "mx.marzcat.info()"
   ]
  },
  {
   "cell_type": "code",
   "execution_count": null,
   "metadata": {
    "ExecuteTime": {
     "end_time": "2018-02-05T11:55:55.611415Z",
     "start_time": "2018-02-05T11:55:55.561159Z"
    },
    "run_control": {
     "frozen": false,
     "read_only": false
    }
   },
   "outputs": [],
   "source": [
    "mx.marzcat.select(limit=3).as_table()"
   ]
  },
  {
   "cell_type": "markdown",
   "metadata": {
    "run_control": {
     "frozen": false,
     "read_only": false
    }
   },
   "source": [
    "## Joining catalogs\n",
    "\n",
    "When the user catalog is ready to be exported, one need to gather the data from multiple catalogs (the input catalog, MarZ, etc.). This can be done with a SQL *join*.\n",
    "\n",
    "By default `.join` renames the columns with the format `{catname}_{colname}` to avoid name conflicts. But it is also possible to specify manually the column names (see below)."
   ]
  },
  {
   "cell_type": "code",
   "execution_count": null,
   "metadata": {
    "ExecuteTime": {
     "end_time": "2018-02-05T11:56:52.669107Z",
     "start_time": "2018-02-05T11:56:52.597985Z"
    },
    "run_control": {
     "frozen": false,
     "read_only": false
    }
   },
   "outputs": [],
   "source": [
    "res = mycat.join([photcat, mx.marzcat], whereclause=(mx.marzcat.c.catalog == mycat.name))\n",
    "res.as_table()[:2]"
   ]
  },
  {
   "cell_type": "markdown",
   "metadata": {
    "run_control": {
     "frozen": false,
     "read_only": false
    }
   },
   "source": [
    "## Select columns for the final catalog\n",
    "\n",
    "To avoid column name conflicts, for now the user needs to select explicitely the columns and rename if needed. This must be done with SQLAlchemy columns objects:"
   ]
  },
  {
   "cell_type": "code",
   "execution_count": null,
   "metadata": {
    "ExecuteTime": {
     "end_time": "2018-02-05T11:58:31.657280Z",
     "start_time": "2018-02-05T11:58:31.646570Z"
    }
   },
   "outputs": [],
   "source": [
    "photcat.c"
   ]
  },
  {
   "cell_type": "code",
   "execution_count": null,
   "metadata": {
    "ExecuteTime": {
     "end_time": "2018-02-05T11:03:20.334197Z",
     "start_time": "2018-02-05T11:03:20.329202Z"
    }
   },
   "outputs": [],
   "source": [
    "str(photcat.c)"
   ]
  },
  {
   "cell_type": "code",
   "execution_count": null,
   "metadata": {
    "ExecuteTime": {
     "end_time": "2018-02-05T11:58:45.458889Z",
     "start_time": "2018-02-05T11:58:45.449285Z"
    },
    "run_control": {
     "frozen": false,
     "read_only": false
    }
   },
   "outputs": [],
   "source": [
    "photcols = [photcat.c[name] for name in ['source_sum', 'source_sum_err', 'area', 'eccentricity', \n",
    "                                         'orientation', 'ellipticity', 'elongation', 'version']]\n",
    "\n",
    "marzcols = [mx.marzcat.c[name] for name in ('FinZ', 'QOP', 'Type', 'Blend', 'Defect', 'Revisit', 'Comment')]"
   ]
  },
  {
   "cell_type": "markdown",
   "metadata": {},
   "source": [
    "It is possible to rename a column with `.label`:"
   ]
  },
  {
   "cell_type": "code",
   "execution_count": null,
   "metadata": {
    "ExecuteTime": {
     "end_time": "2018-02-05T11:59:45.519854Z",
     "start_time": "2018-02-05T11:59:45.516242Z"
    }
   },
   "outputs": [],
   "source": [
    "photcols[2] = photcols[2].label('pixel_area')"
   ]
  },
  {
   "cell_type": "markdown",
   "metadata": {},
   "source": [
    "Then we concatenate the column names from the user catalog, MarZ, and the input catalog:"
   ]
  },
  {
   "cell_type": "code",
   "execution_count": null,
   "metadata": {
    "ExecuteTime": {
     "end_time": "2018-02-05T11:59:46.380232Z",
     "start_time": "2018-02-05T11:59:46.362119Z"
    }
   },
   "outputs": [],
   "source": [
    "mycat.c + marzcols + photcols"
   ]
  },
  {
   "cell_type": "markdown",
   "metadata": {},
   "source": [
    "And we can proceed with the join. Note that by default the join uses the `id` column of each catalog, but it is possible to specify others keys with the `keys` arguments. Also, the `mx.marzcat` table can store the results for multiple catalogs, so we need to select the results for our catalog with the `whereclause`:"
   ]
  },
  {
   "cell_type": "code",
   "execution_count": null,
   "metadata": {
    "ExecuteTime": {
     "end_time": "2018-02-05T12:04:01.227280Z",
     "start_time": "2018-02-05T12:04:01.180658Z"
    },
    "run_control": {
     "frozen": false,
     "read_only": false
    }
   },
   "outputs": [],
   "source": [
    "res = mycat.join(\n",
    "    [mx.marzcat, photcat], \n",
    "    whereclause=(mx.marzcat.c.catalog == mycat.name), \n",
    "    columns=mycat.c + marzcols + photcols, \n",
    "    use_labels=False\n",
    ").as_table()\n",
    "res[:3]"
   ]
  },
  {
   "cell_type": "markdown",
   "metadata": {
    "run_control": {
     "frozen": false,
     "read_only": false
    }
   },
   "source": [
    "## Export sources"
   ]
  },
  {
   "cell_type": "code",
   "execution_count": null,
   "metadata": {
    "ExecuteTime": {
     "end_time": "2018-02-05T11:03:20.419572Z",
     "start_time": "2018-02-05T11:03:20.416261Z"
    },
    "run_control": {
     "frozen": false,
     "read_only": false
    }
   },
   "outputs": [],
   "source": [
    "# Set the REFSPEC column to tell which spectrum must be used \n",
    "# mycat.update_column('refspec', 'MUSE_PSF_SKYSUB')"
   ]
  },
  {
   "cell_type": "markdown",
   "metadata": {},
   "source": [
    "Currently, to get a redshift and confidence number in the `Source` objects, MuseX looks at specific columns (`Z` and `Confid`) in the table. So here we rename the columns (we could have done this within the SQL join above, with `.label`):"
   ]
  },
  {
   "cell_type": "code",
   "execution_count": null,
   "metadata": {},
   "outputs": [],
   "source": [
    "res.rename_column('FinZ', 'Z')\n",
    "res.rename_column('QOP', 'Confid')"
   ]
  },
  {
   "cell_type": "markdown",
   "metadata": {},
   "source": [
    "And we do the export, here for only one source selected by its ID. We also ask for the creation of a PDF file with plots:"
   ]
  },
  {
   "cell_type": "code",
   "execution_count": null,
   "metadata": {
    "ExecuteTime": {
     "end_time": "2018-02-05T12:07:09.714892Z",
     "start_time": "2018-02-05T12:07:08.374628Z"
    },
    "run_control": {
     "frozen": false,
     "read_only": false
    },
    "scrolled": false
   },
   "outputs": [],
   "source": [
    "mx.export_sources(mycat.select_ids([1]), create_pdf=True, size=5, srcvers='0.1', apertures=[0.4])"
   ]
  },
  {
   "cell_type": "markdown",
   "metadata": {},
   "source": [
    "The output files are placed in the *work directory*:"
   ]
  },
  {
   "cell_type": "code",
   "execution_count": null,
   "metadata": {
    "ExecuteTime": {
     "end_time": "2018-02-05T12:07:37.380068Z",
     "start_time": "2018-02-05T12:07:37.369249Z"
    }
   },
   "outputs": [],
   "source": [
    "outdir = os.path.join(mx.workdir, 'export', mycat.name, mx.muse_dataset.name)\n",
    "outdir, os.listdir(outdir)"
   ]
  },
  {
   "cell_type": "markdown",
   "metadata": {},
   "source": [
    "A MPDAF source file has been generated, with all the information both in the header and in the extensions (images, spectra):"
   ]
  },
  {
   "cell_type": "code",
   "execution_count": null,
   "metadata": {
    "ExecuteTime": {
     "end_time": "2018-02-05T11:03:21.924324Z",
     "start_time": "2018-02-05T11:03:21.840749Z"
    },
    "run_control": {
     "frozen": false,
     "read_only": false
    }
   },
   "outputs": [],
   "source": [
    "from mpdaf.sdetect import Source\n",
    "Source.from_file(f'{outdir}/source-00001.fits').info()"
   ]
  },
  {
   "cell_type": "markdown",
   "metadata": {
    "run_control": {
     "frozen": false,
     "read_only": false
    }
   },
   "source": [
    "A PDF file was generated as well."
   ]
  },
  {
   "cell_type": "code",
   "execution_count": null,
   "metadata": {
    "ExecuteTime": {
     "end_time": "2018-02-05T12:18:48.418663Z",
     "start_time": "2018-02-05T12:18:48.101047Z"
    }
   },
   "outputs": [],
   "source": [
    "import subprocess\n",
    "subprocess.run(f'pdftoppm -singlefile {outdir}/source-00001.pdf out && convert out.ppm out.png', shell=True)\n",
    "\n",
    "from IPython.display import Image\n",
    "display(Image('out.png'))"
   ]
  },
  {
   "cell_type": "code",
   "execution_count": null,
   "metadata": {
    "ExecuteTime": {
     "end_time": "2018-02-05T11:04:44.544639Z",
     "start_time": "2018-02-05T11:04:44.539544Z"
    }
   },
   "outputs": [],
   "source": [
    "# import webbrowser\n",
    "# webbrowser.open(f'{outdir}/source-00001.pdf')"
   ]
  },
  {
   "cell_type": "code",
   "execution_count": null,
   "metadata": {
    "ExecuteTime": {
     "end_time": "2018-02-05T11:03:22.128798Z",
     "start_time": "2018-02-05T11:03:22.125484Z"
    },
    "run_control": {
     "frozen": false,
     "read_only": false
    }
   },
   "outputs": [],
   "source": [
    "# from IPython.display import IFrame\n",
    "# display(IFrame(f'{outdir}/source-00001.pdf', width=600, height=300))"
   ]
  },
  {
   "cell_type": "code",
   "execution_count": null,
   "metadata": {
    "ExecuteTime": {
     "end_time": "2018-02-05T12:19:14.438811Z",
     "start_time": "2018-02-05T12:19:14.431325Z"
    },
    "run_control": {
     "frozen": false,
     "read_only": false
    }
   },
   "outputs": [],
   "source": [
    "# Cleanup temp directory\n",
    "tmpdir.cleanup()"
   ]
  }
 ],
 "metadata": {
  "kernelspec": {
   "display_name": "Python 3",
   "language": "python",
   "name": "python3"
  },
  "language_info": {
   "codemirror_mode": {
    "name": "ipython",
    "version": 3
   },
   "file_extension": ".py",
   "mimetype": "text/x-python",
   "name": "python",
   "nbconvert_exporter": "python",
   "pygments_lexer": "ipython3",
   "version": "3.6.3"
  },
  "nav_menu": {},
  "toc": {
   "colors": {
    "hover_highlight": "#DAA520",
    "running_highlight": "#FF0000",
    "selected_highlight": "#FFD700"
   },
   "moveMenuLeft": true,
   "nav_menu": {
    "height": "392px",
    "width": "252px"
   },
   "navigate_menu": true,
   "number_sections": true,
   "sideBar": true,
   "threshold": 6,
   "toc_cell": false,
   "toc_position": {
    "height": "647px",
    "left": "0px",
    "right": "1388px",
    "top": "111px",
    "width": "212px"
   },
   "toc_section_display": "block",
   "toc_window_display": true
  }
 },
 "nbformat": 4,
 "nbformat_minor": 2
}
