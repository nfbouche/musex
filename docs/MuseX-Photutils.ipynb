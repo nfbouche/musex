{
 "cells": [
  {
   "cell_type": "markdown",
   "metadata": {},
   "source": [
    "# MuseX Tutorial, with a Photutils catalog"
   ]
  },
  {
   "cell_type": "code",
   "execution_count": 1,
   "metadata": {
    "ExecuteTime": {
     "end_time": "2017-10-11T15:05:04.168238Z",
     "start_time": "2017-10-11T15:05:04.107657Z"
    },
    "collapsed": true,
    "run_control": {
     "frozen": false,
     "read_only": false
    }
   },
   "outputs": [],
   "source": [
    "%load_ext autoreload\n",
    "%autoreload 2"
   ]
  },
  {
   "cell_type": "code",
   "execution_count": 2,
   "metadata": {
    "ExecuteTime": {
     "end_time": "2018-02-05T11:23:00.048782Z",
     "start_time": "2018-02-05T11:22:59.794571Z"
    },
    "run_control": {
     "frozen": false,
     "read_only": false
    }
   },
   "outputs": [],
   "source": [
    "%matplotlib inline\n",
    "import matplotlib.pyplot as plt\n",
    "import os\n",
    "import tempfile\n",
    "from astropy.io import fits\n",
    "from astropy.table import Table\n",
    "from mpdaf.sdetect import Source"
   ]
  },
  {
   "cell_type": "code",
   "execution_count": 3,
   "metadata": {},
   "outputs": [
    {
     "data": {
      "text/plain": [
       "'0.3.dev25+g4eda71b'"
      ]
     },
     "execution_count": 3,
     "metadata": {},
     "output_type": "execute_result"
    }
   ],
   "source": [
    "import musex\n",
    "musex.__version__"
   ]
  },
  {
   "cell_type": "code",
   "execution_count": 4,
   "metadata": {},
   "outputs": [],
   "source": [
    "# TEMP\n",
    "# settings_file = 'settings.yaml'"
   ]
  },
  {
   "cell_type": "markdown",
   "metadata": {
    "run_control": {
     "frozen": false,
     "read_only": false
    }
   },
   "source": [
    "## Create settings file\n",
    "\n",
    "The settings are specified in a YAML file. MuseX comes with a default settings file (`musex/musex/udf/settings.yaml`) that gives a full example for the UDF, with HST priors.\n",
    "\n",
    "For this tutorial, we use the `tests/data/settings.yaml` settings file that is also used for the unit tests. Because of this the file contains variables for the paths and db location that we will replace below, to work in a temporary directory, but otherwise you don't need to do this.\n",
    "\n",
    "The data inside the `tests/` directory is extracted from the HDFS v1.24 dataset, and the catalog was created with [Photutils](http://photutils.readthedocs.io/)."
   ]
  },
  {
   "cell_type": "code",
   "execution_count": 5,
   "metadata": {
    "ExecuteTime": {
     "end_time": "2018-02-05T11:29:17.043088Z",
     "start_time": "2018-02-05T11:29:17.032662Z"
    }
   },
   "outputs": [
    {
     "data": {
      "text/plain": [
       "'/home/simon/dev/musex/tests/data'"
      ]
     },
     "execution_count": 5,
     "metadata": {},
     "output_type": "execute_result"
    }
   ],
   "source": [
    "DATADIR = os.path.abspath(os.path.join(os.path.dirname(musex.__file__), '..', 'tests', 'data'))\n",
    "DATADIR"
   ]
  },
  {
   "cell_type": "code",
   "execution_count": 6,
   "metadata": {
    "ExecuteTime": {
     "end_time": "2018-02-05T11:25:34.404562Z",
     "start_time": "2018-02-05T11:25:34.396975Z"
    }
   },
   "outputs": [
    {
     "data": {
      "text/plain": [
       "<TemporaryDirectory '/tmp/simon/musex.bmtrzspr'>"
      ]
     },
     "execution_count": 6,
     "metadata": {},
     "output_type": "execute_result"
    }
   ],
   "source": [
    "tmpdir = tempfile.TemporaryDirectory(prefix='musex.')\n",
    "tmpdir"
   ]
  },
  {
   "cell_type": "markdown",
   "metadata": {},
   "source": [
    "Let's create a settings file in the temp directory, with correct paths."
   ]
  },
  {
   "cell_type": "code",
   "execution_count": 7,
   "metadata": {
    "ExecuteTime": {
     "end_time": "2018-02-05T11:30:56.690982Z",
     "start_time": "2018-02-05T11:30:56.673827Z"
    }
   },
   "outputs": [
    {
     "name": "stdout",
     "output_type": "stream",
     "text": [
      "workdir: '/tmp/simon/musex.bmtrzspr'\n",
      "db: '/tmp/simon/musex.bmtrzspr/test.db'\n",
      "show_banner: true\n",
      "author: 'John Doe'\n",
      "\n",
      "datasets:\n",
      "\n",
      "  test:\n",
      "    # small test dataset with images\n",
      "    version: '1.0'\n",
      "    prefix: TEST\n",
      "    images:\n",
      "      FAKE: '/home/simon/dev/musex/tests/data/image.fits'\n",
      "\n",
      "  photutils-hdfs:\n",
      "    # dataset linked to the photutils catalog, to provide associated masks\n",
      "    prefix: PHU\n",
      "    linked_catalog: photutils\n",
      "    masks:\n",
      "      # mask_tpl, skymask_tpl, skymask\n",
      "      skymask: '/tmp/simon/musex.bmtrzspr/masks/hdfs/mask-sky.fits'\n",
      "      mask_tpl: '/tmp/simon/musex.bmtrzspr/masks/hdfs/mask-source-%05d.fits'\n",
      "\n",
      "  origin:\n",
      "    # dataset linked to the origin catalog, to provide associated masks,\n",
      "    # sources, and lines catalog\n",
      "    prefix: ORIG\n",
      "    linked_catalog: origin\n",
      "    tables:\n",
      "      lines:\n",
      "        file: '/home/simon/dev/musex/tests/data/cat_origin_lines.fits'\n",
      "        idname: 'num_line'\n",
      "        src_idname: 'ID'\n",
      "    sources:\n",
      "      # default_tags: [MUSE_TOT_SKYSUB, MUSE_WHITE_SKYSUB]\n",
      "      excluded_tags: [MUSE_CUBE, MUSE_WHITE]\n",
      "      source_tpl: '/home/simon/dev/musex/tests/data/origin_sources/source-%05d.fits'\n",
      "    masks:\n",
      "      mask_tpl: '/home/simon/dev/musex/tests/data/origin_masks/source-mask-%05d.fits'\n",
      "      skymask_tpl: '/home/simon/dev/musex/tests/data/origin_masks/sky-mask-%05d.fits'\n",
      "\n",
      "muse_datasets:\n",
      "  default: hdfs\n",
      "\n",
      "  hdfs:\n",
      "    version: '1.24'\n",
      "    prefix: MUSE\n",
      "    datacube: '/home/simon/dev/musex/tests/data/cube.fits'\n",
      "    # expcube: '/home/simon/dev/musex/tests/data/expcube.fits'\n",
      "    expima: '/home/simon/dev/musex/tests/data/expima.fits'\n",
      "    white: '/home/simon/dev/musex/tests/data/image.fits'\n",
      "\n",
      "catalogs:\n",
      "  photutils:\n",
      "    version: '1.0'\n",
      "    catalog: '/home/simon/dev/musex/tests/data/catalog.fits'\n",
      "    segmap: '/home/simon/dev/musex/tests/data/segmap.fits'\n",
      "    idname: id\n",
      "    raname: ra\n",
      "    decname: dec\n",
      "    extract:\n",
      "      prefix: PHU\n",
      "      columns: [id, ra, dec, source_sum, area]\n",
      "      select_in: TEST_FAKE\n",
      "  origin:\n",
      "    class: musex.catalog.InputCatalog\n",
      "    version: '1.0'\n",
      "    catalog: '/home/simon/dev/musex/tests/data/cat_origin.fits'\n",
      "    idname: ID\n",
      "    raname: ra\n",
      "    decname: dec\n",
      "    version_meta: CAT3_TS\n",
      "    extract:\n",
      "      prefix: ORIG\n",
      "      columns: [ID, ra, dec, n_lines, seg_label, comp, line_merged_flag]\n",
      "      select_in: TEST_FAKE\n",
      "\n",
      "export:\n",
      "  path: '/tmp/simon/musex.bmtrzspr/export'\n",
      "  redshifts:\n",
      "    # Define redshift columns.\n",
      "    MUSE: Z\n",
      "    # MUSE: FinZ\n",
      "  header_columns:\n",
      "    # Maps keader keywords to column names\n",
      "    CONFID: QOP\n",
      "    BLEND: Blend\n",
      "    DEFECT: Defect\n",
      "    REVISIT: Revisit\n",
      "    TYPE: Type\n",
      "    REFSPEC: refspec\n",
      "    COMMENT: Comment\n",
      "  pdf:\n",
      "    image: TEST_FAKE\n",
      "\n"
     ]
    }
   ],
   "source": [
    "settings_file = os.path.join(tmpdir.name, 'settings.yaml')\n",
    "with open(os.path.join(DATADIR, 'settings.yaml'), 'r') as f:\n",
    "    out = f.read()\n",
    "\n",
    "# we replace some variable in the file: path, datadir, and db location\n",
    "out = out.format(tmpdir=tmpdir.name, datadir=DATADIR, db=os.path.join(tmpdir.name, 'test.db'))\n",
    "\n",
    "with open(settings_file, 'w') as f:\n",
    "    f.write(out)\n",
    "    \n",
    "print(out)"
   ]
  },
  {
   "cell_type": "markdown",
   "metadata": {},
   "source": [
    "## Create the MuseX object\n",
    "\n",
    "This is the main object to manage all the extraction process below. Settings can also be overridden with additional arguments."
   ]
  },
  {
   "cell_type": "code",
   "execution_count": 8,
   "metadata": {
    "ExecuteTime": {
     "end_time": "2018-02-05T11:32:03.110784Z",
     "start_time": "2018-02-05T11:32:03.057362Z"
    },
    "run_control": {
     "frozen": false,
     "read_only": false
    }
   },
   "outputs": [
    {
     "name": "stdout",
     "output_type": "stream",
     "text": [
      "\u001b[1;32mINFO\u001b[0m Input catalogs loaded\n",
      "\u001b[1;32mINFO\u001b[0m User catalogs loaded\n",
      "\n",
      "  __  __               __  __\n",
      "  |  \\/  |_   _ ___  ___\\ \\/ /\n",
      "  | |\\/| | | | / __|/ _ \\\\  /\n",
      "  | |  | | |_| \\__ \\  __//  \\\n",
      "  |_|  |_|\\__,_|___/\\___/_/\\_\\\n",
      "\n",
      "\n",
      "The MUse Source EXtractor :) - v0.3.dev25+g4eda71b\n",
      "\n",
      "settings file  : /tmp/simon/musex.bmtrzspr/settings.yaml\n",
      "muse_dataset   : hdfs\n",
      "datasets       : test, photutils-hdfs, origin\n",
      "input_catalogs : photutils, origin\n",
      "catalogs       : \n"
     ]
    }
   ],
   "source": [
    "mx = musex.MuseX(settings_file=settings_file, author='SCO')"
   ]
  },
  {
   "cell_type": "markdown",
   "metadata": {},
   "source": [
    "### Datasets\n",
    "\n",
    "A MuseX object can contains several *datasets*, where a `DataSet` object gathers all the data from a dataset:\n",
    "\n",
    "- For MUSE datasets: image, cube, exposure map.\n",
    "- For other datasets (e.g. HST): images, ...\n",
    "\n",
    "A MuseX object is tied to a given **MUSE dataset** (`mx.muse_dataset`). The other datasets are typically added to the sources object during the extraction."
   ]
  },
  {
   "cell_type": "code",
   "execution_count": 9,
   "metadata": {
    "ExecuteTime": {
     "end_time": "2018-02-05T11:35:23.038626Z",
     "start_time": "2018-02-05T11:35:23.030500Z"
    }
   },
   "outputs": [
    {
     "data": {
      "text/plain": [
       "<MuseDataSet(prefix=MUSE, version=1.24, 1 datacube, 1 expima, 1 white)>"
      ]
     },
     "execution_count": 9,
     "metadata": {},
     "output_type": "execute_result"
    }
   ],
   "source": [
    "# The MUSE dataset\n",
    "mx.muse_dataset"
   ]
  },
  {
   "cell_type": "code",
   "execution_count": 10,
   "metadata": {},
   "outputs": [
    {
     "data": {
      "text/plain": [
       "<Cube(shape=(200, 90, 90), unit='1e-20 erg / (Angstrom cm2 s)', dtype='None')>"
      ]
     },
     "execution_count": 10,
     "metadata": {},
     "output_type": "execute_result"
    }
   ],
   "source": [
    "mx.muse_dataset.cube"
   ]
  },
  {
   "cell_type": "code",
   "execution_count": 11,
   "metadata": {
    "ExecuteTime": {
     "end_time": "2018-02-05T11:35:28.492585Z",
     "start_time": "2018-02-05T11:35:28.485518Z"
    }
   },
   "outputs": [
    {
     "data": {
      "text/plain": [
       "{'test': <DataSet(prefix=TEST, version=1.0, 1 images)>,\n",
       " 'photutils-hdfs': <DataSet(prefix=PHU, linked_cat=photutils, 2 masks)>,\n",
       " 'origin': <DataSet(prefix=ORIG, linked_cat=origin, 1 tables, 2 sources, 2 masks)>}"
      ]
     },
     "execution_count": 11,
     "metadata": {},
     "output_type": "execute_result"
    }
   ],
   "source": [
    "# The other (additional) datasets\n",
    "mx.datasets"
   ]
  },
  {
   "cell_type": "code",
   "execution_count": 12,
   "metadata": {
    "ExecuteTime": {
     "end_time": "2018-02-05T11:35:28.913702Z",
     "start_time": "2018-02-05T11:35:28.896253Z"
    }
   },
   "outputs": [
    {
     "data": {
      "text/plain": [
       "{'FAKE': <Image(shape=(90, 90), unit='1e-60 erg / (Angstrom cm2 s)', dtype='None')>}"
      ]
     },
     "execution_count": 12,
     "metadata": {},
     "output_type": "execute_result"
    }
   ],
   "source": [
    "mx.datasets['test'].images"
   ]
  },
  {
   "cell_type": "markdown",
   "metadata": {},
   "source": [
    "## Input Catalogs, from source detection\n",
    "\n",
    "We have access to a list of input catalogs, defined in the settings file.\n",
    "\n",
    "At this point, the catalogs are given as FITS files defined in the settings, and we need to load them in the database."
   ]
  },
  {
   "cell_type": "code",
   "execution_count": 13,
   "metadata": {
    "ExecuteTime": {
     "end_time": "2018-02-05T11:35:51.015360Z",
     "start_time": "2018-02-05T11:35:51.008584Z"
    }
   },
   "outputs": [
    {
     "data": {
      "text/plain": [
       "{'photutils': <InputCatalog('photutils', 0 rows)>,\n",
       " 'origin': <InputCatalog('origin', 0 rows)>}"
      ]
     },
     "execution_count": 13,
     "metadata": {},
     "output_type": "execute_result"
    }
   ],
   "source": [
    "mx.input_catalogs"
   ]
  },
  {
   "cell_type": "markdown",
   "metadata": {},
   "source": [
    "### Photutils\n",
    "\n",
    "The first catalog used here was created with the Photutils detection code."
   ]
  },
  {
   "cell_type": "code",
   "execution_count": 14,
   "metadata": {
    "ExecuteTime": {
     "end_time": "2018-02-05T11:35:53.594793Z",
     "start_time": "2018-02-05T11:35:53.589100Z"
    },
    "run_control": {
     "frozen": false,
     "read_only": false
    }
   },
   "outputs": [],
   "source": [
    "photcat = mx.input_catalogs['photutils']"
   ]
  },
  {
   "cell_type": "code",
   "execution_count": 15,
   "metadata": {
    "ExecuteTime": {
     "end_time": "2018-02-05T11:36:30.454380Z",
     "start_time": "2018-02-05T11:36:30.341983Z"
    },
    "run_control": {
     "frozen": false,
     "read_only": false
    },
    "scrolled": false
   },
   "outputs": [
    {
     "name": "stdout",
     "output_type": "stream",
     "text": [
      "\u001b[1;32mINFO\u001b[0m ingesting catalog /home/simon/dev/musex/tests/data/catalog.fits\n"
     ]
    },
    {
     "data": {
      "application/vnd.jupyter.widget-view+json": {
       "model_id": "95d75693085549f78bbb56ea88bfe458",
       "version_major": 2,
       "version_minor": 0
      },
      "text/plain": [
       "HBox(children=(IntProgress(value=0, max=13), HTML(value='')))"
      ]
     },
     "metadata": {},
     "output_type": "display_data"
    },
    {
     "name": "stdout",
     "output_type": "stream",
     "text": [
      "\n",
      "\u001b[1;32mINFO\u001b[0m 13 rows inserted\n"
     ]
    }
   ],
   "source": [
    "photcat.ingest_input_catalog()"
   ]
  },
  {
   "cell_type": "code",
   "execution_count": 16,
   "metadata": {
    "ExecuteTime": {
     "end_time": "2018-02-05T11:36:54.591951Z",
     "start_time": "2018-02-05T11:36:54.584609Z"
    }
   },
   "outputs": [
    {
     "data": {
      "text/plain": [
       "<InputCatalog('photutils', 13 rows)>"
      ]
     },
     "execution_count": 16,
     "metadata": {},
     "output_type": "execute_result"
    }
   ],
   "source": [
    "photcat"
   ]
  },
  {
   "cell_type": "markdown",
   "metadata": {
    "run_control": {
     "frozen": false,
     "read_only": false
    }
   },
   "source": [
    "### See available columns, table info\n",
    "\n",
    "We now have rows in our catalog, we can see some information about it: number of rows, columns, and some metadata."
   ]
  },
  {
   "cell_type": "code",
   "execution_count": 17,
   "metadata": {},
   "outputs": [
    {
     "data": {
      "text/plain": [
       "{'photutils': <InputCatalog('photutils', 13 rows)>,\n",
       " 'origin': <InputCatalog('origin', 0 rows)>}"
      ]
     },
     "execution_count": 17,
     "metadata": {},
     "output_type": "execute_result"
    }
   ],
   "source": [
    "mx.input_catalogs"
   ]
  },
  {
   "cell_type": "code",
   "execution_count": 18,
   "metadata": {
    "ExecuteTime": {
     "end_time": "2018-02-05T11:36:55.378934Z",
     "start_time": "2018-02-05T11:36:55.368170Z"
    },
    "run_control": {
     "frozen": false,
     "read_only": false
    }
   },
   "outputs": [
    {
     "name": "stdout",
     "output_type": "stream",
     "text": [
      "InputCatalog 'photutils' - 13 rows.\n",
      "\n",
      "Metadata:\n",
      "- creation_date : 2019-04-29T09:30:41.064825\n",
      "- type          : input\n",
      "- parent_cat    : None\n",
      "- raname        : ra\n",
      "- decname       : dec\n",
      "- idname        : id\n",
      "- maxid         : 13\n",
      "- query         : None\n",
      "\n",
      "Columns:\n",
      "- id             : INTEGER \n",
      "- ra             : FLOAT \n",
      "- dec            : FLOAT \n",
      "- xcentroid      : FLOAT \n",
      "- ycentroid      : FLOAT \n",
      "- source_sum     : FLOAT \n",
      "- source_sum_err : FLOAT \n",
      "- area           : FLOAT \n",
      "- eccentricity   : FLOAT \n",
      "- orientation    : FLOAT \n",
      "- ellipticity    : FLOAT \n",
      "- elongation     : FLOAT \n",
      "- version        : TEXT \n"
     ]
    }
   ],
   "source": [
    "photcat.info()"
   ]
  },
  {
   "cell_type": "markdown",
   "metadata": {},
   "source": [
    "The catalog metadata is also available with the `.meta` attribute:"
   ]
  },
  {
   "cell_type": "code",
   "execution_count": 19,
   "metadata": {},
   "outputs": [
    {
     "data": {
      "text/plain": [
       "OrderedDict([('id', 1),\n",
       "             ('name', 'photutils'),\n",
       "             ('creation_date', '2019-04-29T09:30:41.064825'),\n",
       "             ('type', 'input'),\n",
       "             ('parent_cat', None),\n",
       "             ('raname', 'ra'),\n",
       "             ('decname', 'dec'),\n",
       "             ('idname', 'id'),\n",
       "             ('maxid', 13),\n",
       "             ('query', None)])"
      ]
     },
     "execution_count": 19,
     "metadata": {},
     "output_type": "execute_result"
    }
   ],
   "source": [
    "photcat.meta"
   ]
  },
  {
   "cell_type": "markdown",
   "metadata": {},
   "source": [
    "### Origin\n",
    "\n",
    "We also have the possibility to ingest a catalog from the ORIGIN detection software. This catalog is associated to a line catalog, which contains the individual line detections, and to sources and masks all defined in the *origin* dataset."
   ]
  },
  {
   "cell_type": "code",
   "execution_count": 20,
   "metadata": {},
   "outputs": [
    {
     "name": "stdout",
     "output_type": "stream",
     "text": [
      "\u001b[1;32mINFO\u001b[0m ingesting catalog /home/simon/dev/musex/tests/data/cat_origin.fits\n"
     ]
    },
    {
     "data": {
      "application/vnd.jupyter.widget-view+json": {
       "model_id": "6cdcd12cb13240a6b5c438eb5ce80600",
       "version_major": 2,
       "version_minor": 0
      },
      "text/plain": [
       "HBox(children=(IntProgress(value=0, max=4), HTML(value='')))"
      ]
     },
     "metadata": {},
     "output_type": "display_data"
    },
    {
     "name": "stdout",
     "output_type": "stream",
     "text": [
      "\n",
      "\u001b[1;32mINFO\u001b[0m 4 rows inserted\n"
     ]
    }
   ],
   "source": [
    "origcat = mx.input_catalogs['origin']\n",
    "origcat.ingest_input_catalog()"
   ]
  },
  {
   "cell_type": "code",
   "execution_count": 21,
   "metadata": {},
   "outputs": [
    {
     "data": {
      "text/plain": [
       "{'photutils': <InputCatalog('photutils', 13 rows)>,\n",
       " 'origin': <InputCatalog('origin', 4 rows)>}"
      ]
     },
     "execution_count": 21,
     "metadata": {},
     "output_type": "execute_result"
    }
   ],
   "source": [
    "mx.input_catalogs"
   ]
  },
  {
   "cell_type": "markdown",
   "metadata": {
    "run_control": {
     "frozen": false,
     "read_only": false
    }
   },
   "source": [
    "## Intro to `Catalog` objects\n",
    "\n",
    "In MuseX, `Catalog` objects are wrapping a SQL table, using the [dataset](https://dataset.readthedocs.io/en/latest/) and [SQLAlchemy](http://docs.sqlalchemy.org/en/latest/index.html) packages. SQLAlchemy provides a Pythonic interface to the SQL language, and MuseX also provides some higher-level operations.\n",
    "\n",
    "For instance, to select in the catalog the sources with an ``ID < 5``:"
   ]
  },
  {
   "cell_type": "code",
   "execution_count": 22,
   "metadata": {
    "ExecuteTime": {
     "end_time": "2018-02-05T11:37:16.161572Z",
     "start_time": "2018-02-05T11:37:16.151418Z"
    },
    "run_control": {
     "frozen": false,
     "read_only": false
    }
   },
   "outputs": [
    {
     "data": {
      "text/plain": [
       "<ResultSet(photutils.id < 5)>, 4 results"
      ]
     },
     "execution_count": 22,
     "metadata": {},
     "output_type": "execute_result"
    }
   ],
   "source": [
    "res = photcat.select(whereclause=photcat.c.id < 5, \n",
    "                     columns=[photcat.idname, photcat.raname, photcat.decname])\n",
    "res"
   ]
  },
  {
   "cell_type": "markdown",
   "metadata": {
    "run_control": {
     "frozen": false,
     "read_only": false
    }
   },
   "source": [
    "The result of a selection can be exported as Astropy Table (or the `mpdaf.sdetect.Catalog` wrapper by default).\n",
    "This shows the complete catalog:"
   ]
  },
  {
   "cell_type": "code",
   "execution_count": 23,
   "metadata": {
    "ExecuteTime": {
     "end_time": "2018-02-05T11:38:37.993555Z",
     "start_time": "2018-02-05T11:38:37.959628Z"
    },
    "run_control": {
     "frozen": false,
     "read_only": false
    }
   },
   "outputs": [
    {
     "data": {
      "text/html": [
       "<i>Catalog masked=True length=13</i>\n",
       "<table id=\"table140023709118648\" class=\"table-striped table-bordered table-condensed\">\n",
       "<thead><tr><th>id</th><th>ra</th><th>dec</th><th>xcentroid</th><th>ycentroid</th><th>source_sum</th><th>source_sum_err</th><th>area</th><th>eccentricity</th><th>orientation</th><th>ellipticity</th><th>elongation</th><th>version</th></tr></thead>\n",
       "<thead><tr><th>int64</th><th>float64</th><th>float64</th><th>float64</th><th>float64</th><th>float64</th><th>float64</th><th>float64</th><th>float64</th><th>float64</th><th>float64</th><th>float64</th><th>str3</th></tr></thead>\n",
       "<tr><td>1</td><td>338.22216683331436</td><td>-60.56791899034823</td><td>84.17464353709585</td><td>37.8735833857062</td><td>17.611382994800806</td><td>3.8582196214768953</td><td>79.0</td><td>0.43393342946114793</td><td>0.8580410669352785</td><td>0.09905506339394576</td><td>1.1099457462595834</td><td>1.0</td></tr>\n",
       "<tr><td>2</td><td>338.223717115442</td><td>-60.566030603445334</td><td>70.39134668054363</td><td>71.85060521460757</td><td>5.36989851295948</td><td>2.3579307859187533</td><td>28.0</td><td>0.5278369963327637</td><td>-0.3707806312431074</td><td>0.1506543075387936</td><td>1.1773769018622235</td><td>1.0</td></tr>\n",
       "<tr><td>3</td><td>338.23122540134506</td><td>-60.565947622439595</td><td>3.8983534121084236</td><td>73.12238343040192</td><td>7.717203065752983</td><td>2.5785737182307544</td><td>37.0</td><td>0.37486045077163443</td><td>-1.5044325003438939</td><td>0.07291875089219557</td><td>1.078654110373142</td><td>1.0</td></tr>\n",
       "<tr><td>4</td><td>338.23075897015997</td><td>-60.56529582206629</td><td>8.008507386689562</td><td>84.87964684116072</td><td>47.56456159427762</td><td>3.957137899405799</td><td>86.0</td><td>0.3618120741766021</td><td>1.253981251781708</td><td>0.06774894852297164</td><td>1.0726724291870011</td><td>1.0</td></tr>\n",
       "<tr><td>5</td><td>338.22344426453924</td><td>-60.565293950723195</td><td>72.78604306409346</td><td>85.1304977128141</td><td>9.267546605318785</td><td>2.891929673071918</td><td>43.0</td><td>0.34149582905403886</td><td>-0.7723162773518457</td><td>0.060116710043904065</td><td>1.063961888339043</td><td>1.0</td></tr>\n",
       "<tr><td>6</td><td>338.23006974404103</td><td>-60.56947389750513</td><td>14.242037102996946</td><td>9.62603692085029</td><td>65.34346552938223</td><td>4.843022140700766</td><td>129.0</td><td>0.3788811153062252</td><td>-1.56822411586026</td><td>0.07455464749975071</td><td>1.080560831926303</td><td>1.0</td></tr>\n",
       "<tr><td>7</td><td>338.2302119381167</td><td>-60.5687317201611</td><td>12.959857008648024</td><td>22.993210706363516</td><td>129.69185087271035</td><td>7.112266323040305</td><td>284.0</td><td>0.4017365013359274</td><td>0.4063112561507294</td><td>0.08424469234714871</td><td>1.0919947628401676</td><td>1.0</td></tr>\n",
       "<tr><td>8</td><td>338.2289866204975</td><td>-60.56824280312122</td><td>23.794820877858843</td><td>31.838575804582526</td><td>3.1225252524018288</td><td>2.0181706293187514</td><td>25.0</td><td>0.693823639780682</td><td>1.2360735732899375</td><td>0.2798550445351391</td><td>1.38860932429151</td><td>1.0</td></tr>\n",
       "<tr><td>9</td><td>338.2256990939331</td><td>-60.56919605095256</td><td>52.93434534163357</td><td>14.762051380534484</td><td>27.56038597226143</td><td>4.0427991796868215</td><td>88.0</td><td>0.5158184032950975</td><td>-0.3097023334651164</td><td>0.14330205158288356</td><td>1.1672725513673243</td><td>1.0</td></tr>\n",
       "<tr><td>10</td><td>338.22648935292443</td><td>-60.5690199068245</td><td>45.93150875569169</td><td>17.912207339981585</td><td>4.270262666046619</td><td>2.0329902244214924</td><td>23.0</td><td>0.5796710994807805</td><td>0.9583476298180438</td><td>0.18514945147791495</td><td>1.2272189075821636</td><td>1.0</td></tr>\n",
       "<tr><td>11</td><td>338.22348428913165</td><td>-60.56754059198178</td><td>72.49737962800835</td><td>44.65266003181102</td><td>26.583613235503435</td><td>5.432020555248268</td><td>134.0</td><td>0.7429219887342073</td><td>0.6269893822133364</td><td>0.33062199120735214</td><td>1.493924190613451</td><td>1.0</td></tr>\n",
       "<tr><td>12</td><td>338.22451450433454</td><td>-60.56726203677682</td><td>63.36639436464404</td><td>49.641107160545445</td><td>21.264673732221127</td><td>4.267022526793442</td><td>92.0</td><td>0.5916001457145958</td><td>1.0277419560969965</td><td>0.19376847767501115</td><td>1.240338503654914</td><td>1.0</td></tr>\n",
       "<tr><td>13</td><td>338.2246059392931</td><td>-60.56670626193888</td><td>62.540268551976354</td><td>59.651555253770354</td><td>5.514259658753872</td><td>2.7637450819405074</td><td>39.0</td><td>0.8874705696414027</td><td>-0.5973814276694704</td><td>0.5391356077756015</td><td>2.1698356758989794</td><td>1.0</td></tr>\n",
       "</table>"
      ],
      "text/plain": [
       "<Catalog masked=True length=13>\n",
       "  id          ra                 dec         ...     elongation     version\n",
       "int64      float64             float64       ...      float64         str3 \n",
       "----- ------------------ ------------------- ... ------------------ -------\n",
       "    1 338.22216683331436  -60.56791899034823 ... 1.1099457462595834     1.0\n",
       "    2   338.223717115442 -60.566030603445334 ... 1.1773769018622235     1.0\n",
       "    3 338.23122540134506 -60.565947622439595 ...  1.078654110373142     1.0\n",
       "    4 338.23075897015997  -60.56529582206629 ... 1.0726724291870011     1.0\n",
       "    5 338.22344426453924 -60.565293950723195 ...  1.063961888339043     1.0\n",
       "    6 338.23006974404103  -60.56947389750513 ...  1.080560831926303     1.0\n",
       "    7  338.2302119381167   -60.5687317201611 ... 1.0919947628401676     1.0\n",
       "    8  338.2289866204975  -60.56824280312122 ...   1.38860932429151     1.0\n",
       "    9  338.2256990939331  -60.56919605095256 ... 1.1672725513673243     1.0\n",
       "   10 338.22648935292443   -60.5690199068245 ... 1.2272189075821636     1.0\n",
       "   11 338.22348428913165  -60.56754059198178 ...  1.493924190613451     1.0\n",
       "   12 338.22451450433454  -60.56726203677682 ...  1.240338503654914     1.0\n",
       "   13  338.2246059392931  -60.56670626193888 ... 2.1698356758989794     1.0"
      ]
     },
     "execution_count": 23,
     "metadata": {},
     "output_type": "execute_result"
    }
   ],
   "source": [
    "photcat.select().as_table()"
   ]
  },
  {
   "cell_type": "markdown",
   "metadata": {},
   "source": [
    "It is possible to do any SQL selection and choose which columns to get, using the SQLAlchemy syntax:"
   ]
  },
  {
   "cell_type": "code",
   "execution_count": 24,
   "metadata": {
    "ExecuteTime": {
     "end_time": "2018-02-05T11:39:33.738829Z",
     "start_time": "2018-02-05T11:39:33.725602Z"
    }
   },
   "outputs": [
    {
     "data": {
      "text/html": [
       "<i>Catalog masked=True length=2</i>\n",
       "<table id=\"table140023708628976\" class=\"table-striped table-bordered table-condensed\">\n",
       "<thead><tr><th>id</th><th>ra</th><th>dec</th><th>source_sum</th><th>area</th></tr></thead>\n",
       "<thead><tr><th>int64</th><th>float64</th><th>float64</th><th>float64</th><th>float64</th></tr></thead>\n",
       "<tr><td>6</td><td>338.23006974404103</td><td>-60.56947389750513</td><td>65.34346552938223</td><td>129.0</td></tr>\n",
       "<tr><td>7</td><td>338.2302119381167</td><td>-60.5687317201611</td><td>129.69185087271035</td><td>284.0</td></tr>\n",
       "</table>"
      ],
      "text/plain": [
       "<Catalog masked=True length=2>\n",
       "  id          ra                dec             source_sum       area \n",
       "int64      float64            float64            float64       float64\n",
       "----- ------------------ ------------------ ------------------ -------\n",
       "    6 338.23006974404103 -60.56947389750513  65.34346552938223   129.0\n",
       "    7  338.2302119381167  -60.5687317201611 129.69185087271035   284.0"
      ]
     },
     "execution_count": 24,
     "metadata": {},
     "output_type": "execute_result"
    }
   ],
   "source": [
    "photcat.select(whereclause=photcat.c.source_sum > 50,\n",
    "               columns=[photcat.idname, photcat.raname, photcat.decname, 'source_sum', 'area']).as_table()"
   ]
  },
  {
   "cell_type": "markdown",
   "metadata": {
    "run_control": {
     "frozen": false,
     "read_only": false
    }
   },
   "source": [
    "## User catalogs\n",
    "\n",
    "Input catalogs are kept immutable, instead users can work on a *\"user catalog\"*. \n",
    "\n",
    "User catalogs must be created with the result of a selection. The mandatory columns are `ID`, `RA` and `DEC` (the other columns from the input catalog can be accessed later with a SQL *join*)."
   ]
  },
  {
   "cell_type": "markdown",
   "metadata": {},
   "source": [
    "So we can create a user catalog named `my_cat`:"
   ]
  },
  {
   "cell_type": "code",
   "execution_count": 25,
   "metadata": {
    "ExecuteTime": {
     "end_time": "2018-02-05T11:41:23.135396Z",
     "start_time": "2018-02-05T11:41:23.056681Z"
    },
    "run_control": {
     "frozen": false,
     "read_only": false
    },
    "scrolled": false
   },
   "outputs": [
    {
     "data": {
      "application/vnd.jupyter.widget-view+json": {
       "model_id": "fa895c864e3f46c7a95c3c5acc69c271",
       "version_major": 2,
       "version_minor": 0
      },
      "text/plain": [
       "HBox(children=(IntProgress(value=0, max=13), HTML(value='')))"
      ]
     },
     "metadata": {},
     "output_type": "display_data"
    },
    {
     "name": "stdout",
     "output_type": "stream",
     "text": [
      "\n",
      "\u001b[1;32mINFO\u001b[0m 13 rows inserted\n"
     ]
    }
   ],
   "source": [
    "res = photcat.select(columns=[photcat.idname, photcat.raname, photcat.decname])\n",
    "mycat = mx.new_catalog_from_resultset('my_cat', res, drop_if_exists=True)"
   ]
  },
  {
   "cell_type": "markdown",
   "metadata": {
    "run_control": {
     "frozen": false,
     "read_only": false
    }
   },
   "source": [
    "And we can look at the metadata which is stored about our new user catalog:"
   ]
  },
  {
   "cell_type": "code",
   "execution_count": 26,
   "metadata": {
    "ExecuteTime": {
     "end_time": "2018-02-05T11:41:58.972553Z",
     "start_time": "2018-02-05T11:41:58.957961Z"
    },
    "run_control": {
     "frozen": false,
     "read_only": false
    }
   },
   "outputs": [
    {
     "name": "stdout",
     "output_type": "stream",
     "text": [
      "Catalog 'my_cat' - 13 rows.\n",
      "\n",
      "Metadata:\n",
      "- creation_date : 2019-04-29T09:30:41.538999\n",
      "- type          : user\n",
      "- parent_cat    : photutils\n",
      "- raname        : ra\n",
      "- decname       : dec\n",
      "- idname        : id\n",
      "- maxid         : 13\n",
      "- query         : None\n",
      "- version_meta  : None\n",
      "- CAT3_TS       : None\n",
      "\n",
      "Columns:\n",
      "- id  : INTEGER \n",
      "- ra  : FLOAT \n",
      "- dec : FLOAT \n"
     ]
    }
   ],
   "source": [
    "mycat.info()"
   ]
  },
  {
   "cell_type": "code",
   "execution_count": 27,
   "metadata": {},
   "outputs": [
    {
     "data": {
      "application/vnd.jupyter.widget-view+json": {
       "model_id": "61026bd32e9d4b9dac92159a9376610b",
       "version_major": 2,
       "version_minor": 0
      },
      "text/plain": [
       "HBox(children=(IntProgress(value=0, max=4), HTML(value='')))"
      ]
     },
     "metadata": {},
     "output_type": "display_data"
    },
    {
     "name": "stdout",
     "output_type": "stream",
     "text": [
      "\n",
      "\u001b[1;32mINFO\u001b[0m 4 rows inserted\n"
     ]
    }
   ],
   "source": [
    "myori = mx.new_catalog_from_resultset('my_oricat', origcat.select())"
   ]
  },
  {
   "cell_type": "markdown",
   "metadata": {
    "run_control": {
     "frozen": false,
     "read_only": false
    }
   },
   "source": [
    "## User catalogs from scratch\n",
    "\n",
    "User catalogs must be created with the result of a selection. The mandatory columns are `ID`, `RA` and `DEC` (the other columns from the input catalog can be accessed later with a SQL *join*)."
   ]
  },
  {
   "cell_type": "code",
   "execution_count": 28,
   "metadata": {},
   "outputs": [
    {
     "data": {
      "text/html": [
       "<i>Table length=2</i>\n",
       "<table id=\"table140023708851840\" class=\"table-striped table-bordered table-condensed\">\n",
       "<thead><tr><th>id</th><th>ra</th><th>dec</th><th>xcentroid</th><th>ycentroid</th><th>source_sum</th><th>source_sum_err</th><th>area</th><th>eccentricity</th><th>orientation</th><th>ellipticity</th><th>elongation</th></tr></thead>\n",
       "<thead><tr><th></th><th></th><th></th><th>pix</th><th>pix</th><th></th><th></th><th>pix2</th><th></th><th>rad</th><th></th><th></th></tr></thead>\n",
       "<thead><tr><th>int64</th><th>float64</th><th>float64</th><th>float64</th><th>float64</th><th>float64</th><th>float64</th><th>float64</th><th>float64</th><th>float64</th><th>float64</th><th>float64</th></tr></thead>\n",
       "<tr><td>1</td><td>338.22216683331436</td><td>-60.56791899034823</td><td>84.17464353709585</td><td>37.8735833857062</td><td>17.611382994800806</td><td>3.8582196214768953</td><td>79.0</td><td>0.43393342946114793</td><td>0.8580410669352785</td><td>0.09905506339394576</td><td>1.1099457462595834</td></tr>\n",
       "<tr><td>2</td><td>338.223717115442</td><td>-60.566030603445334</td><td>70.39134668054363</td><td>71.85060521460757</td><td>5.36989851295948</td><td>2.3579307859187533</td><td>28.0</td><td>0.5278369963327637</td><td>-0.3707806312431074</td><td>0.1506543075387936</td><td>1.1773769018622235</td></tr>\n",
       "</table>"
      ],
      "text/plain": [
       "<Table length=2>\n",
       "  id          ra         ...     ellipticity         elongation    \n",
       "                         ...                                       \n",
       "int64      float64       ...       float64            float64      \n",
       "----- ------------------ ... ------------------- ------------------\n",
       "    1 338.22216683331436 ... 0.09905506339394576 1.1099457462595834\n",
       "    2   338.223717115442 ...  0.1506543075387936 1.1773769018622235"
      ]
     },
     "execution_count": 28,
     "metadata": {},
     "output_type": "execute_result"
    }
   ],
   "source": [
    "catfile = os.path.join(DATADIR, 'catalog.fits')\n",
    "tbl = Table.read(catfile)\n",
    "tbl[:2]"
   ]
  },
  {
   "cell_type": "code",
   "execution_count": 29,
   "metadata": {
    "ExecuteTime": {
     "end_time": "2018-02-05T11:41:23.135396Z",
     "start_time": "2018-02-05T11:41:23.056681Z"
    },
    "run_control": {
     "frozen": false,
     "read_only": false
    },
    "scrolled": false
   },
   "outputs": [],
   "source": [
    "mycat2 = mx.new_catalog('my_cat2', drop_if_exists=True, idname='id', raname='ra', decname='dec')"
   ]
  },
  {
   "cell_type": "code",
   "execution_count": 30,
   "metadata": {},
   "outputs": [
    {
     "data": {
      "application/vnd.jupyter.widget-view+json": {
       "model_id": "54c1a62b5d1a447cad142069f5780283",
       "version_major": 2,
       "version_minor": 0
      },
      "text/plain": [
       "HBox(children=(IntProgress(value=0, max=13), HTML(value='')))"
      ]
     },
     "metadata": {},
     "output_type": "display_data"
    },
    {
     "name": "stdout",
     "output_type": "stream",
     "text": [
      "\n",
      "\u001b[1;32mINFO\u001b[0m 13 rows inserted\n"
     ]
    },
    {
     "data": {
      "text/plain": [
       "[1, 2, 3, 4, 5, 6, 7, 8, 9, 10, 11, 12, 13]"
      ]
     },
     "execution_count": 30,
     "metadata": {},
     "output_type": "execute_result"
    }
   ],
   "source": [
    "mycat2.insert(tbl)"
   ]
  },
  {
   "cell_type": "code",
   "execution_count": 31,
   "metadata": {},
   "outputs": [
    {
     "name": "stdout",
     "output_type": "stream",
     "text": [
      "Catalog 'my_cat2' - 13 rows.\n",
      "\n",
      "Metadata:\n",
      "- creation_date : 2019-04-29T09:30:41.842408\n",
      "- type          : user\n",
      "- parent_cat    : None\n",
      "- raname        : ra\n",
      "- decname       : dec\n",
      "- idname        : id\n",
      "- maxid         : 13\n",
      "- query         : None\n",
      "- version_meta  : None\n",
      "- CAT3_TS       : None\n",
      "\n",
      "Columns:\n",
      "- id             : INTEGER \n",
      "- ra             : FLOAT \n",
      "- dec            : FLOAT \n",
      "- xcentroid      : FLOAT \n",
      "- ycentroid      : FLOAT \n",
      "- source_sum     : FLOAT \n",
      "- source_sum_err : FLOAT \n",
      "- area           : FLOAT \n",
      "- eccentricity   : FLOAT \n",
      "- orientation    : FLOAT \n",
      "- ellipticity    : FLOAT \n",
      "- elongation     : FLOAT \n"
     ]
    }
   ],
   "source": [
    "mycat2.info()"
   ]
  },
  {
   "cell_type": "markdown",
   "metadata": {
    "run_control": {
     "frozen": false,
     "read_only": false
    }
   },
   "source": [
    "* * * \n",
    "\n",
    "## Restart and use existing catalog (created at previous step)\n",
    "\n",
    "All of the above is a setup that has to be done only once. Then all the information is stored in the database. Let's restart with a new MuseX object to check that it works."
   ]
  },
  {
   "cell_type": "code",
   "execution_count": 32,
   "metadata": {
    "ExecuteTime": {
     "end_time": "2018-02-05T11:42:53.960945Z",
     "start_time": "2018-02-05T11:42:53.925479Z"
    },
    "run_control": {
     "frozen": false,
     "read_only": false
    }
   },
   "outputs": [
    {
     "name": "stdout",
     "output_type": "stream",
     "text": [
      "\u001b[1;32mINFO\u001b[0m Input catalogs loaded\n",
      "\u001b[1;32mINFO\u001b[0m User catalogs loaded\n",
      "\n",
      "  __  __               __  __\n",
      "  |  \\/  |_   _ ___  ___\\ \\/ /\n",
      "  | |\\/| | | | / __|/ _ \\\\  /\n",
      "  | |  | | |_| \\__ \\  __//  \\\n",
      "  |_|  |_|\\__,_|___/\\___/_/\\_\\\n",
      "\n",
      "\n",
      "The MUse Source EXtractor :) - v0.3.dev25+g4eda71b\n",
      "\n",
      "settings file  : /tmp/simon/musex.bmtrzspr/settings.yaml\n",
      "muse_dataset   : hdfs\n",
      "datasets       : test, photutils-hdfs, origin\n",
      "input_catalogs : photutils, origin\n",
      "catalogs       : my_cat, my_oricat, my_cat2\n"
     ]
    }
   ],
   "source": [
    "import musex\n",
    "mx = musex.MuseX(settings_file=settings_file)"
   ]
  },
  {
   "cell_type": "markdown",
   "metadata": {},
   "source": [
    "User catalogs are stored in `mx.catalogs`:"
   ]
  },
  {
   "cell_type": "code",
   "execution_count": 33,
   "metadata": {},
   "outputs": [],
   "source": [
    "photcat = mx.input_catalogs['photutils']\n",
    "origcat = mx.input_catalogs['origin']"
   ]
  },
  {
   "cell_type": "markdown",
   "metadata": {},
   "source": [
    "And we can verify that our sources are still here:"
   ]
  },
  {
   "cell_type": "code",
   "execution_count": 34,
   "metadata": {
    "ExecuteTime": {
     "end_time": "2018-02-05T11:44:25.818947Z",
     "start_time": "2018-02-05T11:44:25.804175Z"
    },
    "run_control": {
     "frozen": false,
     "read_only": false
    }
   },
   "outputs": [
    {
     "data": {
      "text/html": [
       "<i>Catalog masked=True length=2</i>\n",
       "<table id=\"table140023709564432\" class=\"table-striped table-bordered table-condensed\">\n",
       "<thead><tr><th>id</th><th>ra</th><th>dec</th></tr></thead>\n",
       "<thead><tr><th>int64</th><th>float64</th><th>float64</th></tr></thead>\n",
       "<tr><td>1</td><td>338.22216683331436</td><td>-60.56791899034823</td></tr>\n",
       "<tr><td>2</td><td>338.223717115442</td><td>-60.566030603445334</td></tr>\n",
       "</table>"
      ],
      "text/plain": [
       "<Catalog masked=True length=2>\n",
       "  id          ra                 dec        \n",
       "int64      float64             float64      \n",
       "----- ------------------ -------------------\n",
       "    1 338.22216683331436  -60.56791899034823\n",
       "    2   338.223717115442 -60.566030603445334"
      ]
     },
     "execution_count": 34,
     "metadata": {},
     "output_type": "execute_result"
    }
   ],
   "source": [
    "mycat = mx.catalogs['my_cat']\n",
    "mycat.select(limit=2).as_table()"
   ]
  },
  {
   "cell_type": "markdown",
   "metadata": {
    "run_control": {
     "frozen": false,
     "read_only": false
    }
   },
   "source": [
    "## Masks\n",
    "\n",
    "To extract spectra from the cube, we need a mask for each source, and either a global sky mask or one per source. The spectra extraction is done with MPDAF Sources ([mpdaf.sdetect.Source](https://mpdaf.readthedocs.io/en/latest/source.html#)), specifically with the [Source.extract_spectra](https://mpdaf.readthedocs.io/en/latest/api/mpdaf.sdetect.Source.html#mpdaf.sdetect.Source.extract_spectra) method. To do this we need to put a sub-cube and the masks in the `Source` object.\n",
    "\n",
    "There are multiple ways to extract the masks. Some tools (e.g. ORIGIN) provide the masks. Another method is to use a segmentation map. Here we use:\n",
    "\n",
    "* ORIGIN: the masks computed by ORIGIN are available with the \"origin\" dataset.\n",
    "* photutils: an associated segmentation map was computed with photutils' [detect_sources](https://photutils.readthedocs.io/en/stable/api/photutils.segmentation.detect_sources.html) and [deblend_sources](https://photutils.readthedocs.io/en/stable/api/photutils.segmentation.deblend_sources.html) functions.\n",
    "\n",
    "To help creating the masks from a segmentation map, there is the `MuseX.create_masks_from_segmap` method, which itself uses [create_masks_from_segmap](https://mpdaf.readthedocs.io/en/latest/api/mpdaf.sdetect.create_masks_from_segmap.html) from MPDAF.\n",
    "\n",
    "This can also be used for an HST segmentation map, and it will take care of aligning the segmap and putting to the MUSE resolution."
   ]
  },
  {
   "cell_type": "code",
   "execution_count": 35,
   "metadata": {},
   "outputs": [
    {
     "name": "stdout",
     "output_type": "stream",
     "text": [
      "\u001b[1;32mINFO\u001b[0m read catalog /home/simon/dev/musex/tests/data/catalog.fits with 13 sources\n",
      "\u001b[1;32mINFO\u001b[0m selected 13 sources in dataset footprint\n",
      "\u001b[1;32mINFO\u001b[0m Aligning segmap with reference image\n",
      "\u001b[1;32mINFO\u001b[0m computing masks for 10 sources\n"
     ]
    },
    {
     "data": {
      "application/vnd.jupyter.widget-view+json": {
       "model_id": "a44277d755844548b6c42030774b6e43",
       "version_major": 2,
       "version_minor": 0
      },
      "text/plain": [
       "HBox(children=(IntProgress(value=0, max=10), HTML(value='')))"
      ]
     },
     "metadata": {},
     "output_type": "display_data"
    },
    {
     "name": "stdout",
     "output_type": "stream",
     "text": [
      "\n"
     ]
    }
   ],
   "source": [
    "maskdir = os.path.join(mx.workdir, 'masks', 'hdfs')\n",
    "mx.create_masks_from_segmap(photcat, maskdir, skip_existing=True)"
   ]
  },
  {
   "cell_type": "code",
   "execution_count": 36,
   "metadata": {
    "ExecuteTime": {
     "end_time": "2018-02-05T11:44:57.322625Z",
     "start_time": "2018-02-05T11:44:57.308369Z"
    },
    "run_control": {
     "frozen": false,
     "read_only": false
    }
   },
   "outputs": [
    {
     "name": "stdout",
     "output_type": "stream",
     "text": [
      "work dir: /tmp/simon/musex.bmtrzspr\n"
     ]
    },
    {
     "data": {
      "text/plain": [
       "['mask-sky.fits',\n",
       " 'mask-source-00001.fits',\n",
       " 'mask-source-00002.fits',\n",
       " 'mask-source-00003.fits',\n",
       " 'mask-source-00004.fits',\n",
       " 'mask-source-00005.fits',\n",
       " 'mask-source-00006.fits',\n",
       " 'mask-source-00007.fits',\n",
       " 'mask-source-00008.fits',\n",
       " 'mask-source-00009.fits',\n",
       " 'mask-source-00010.fits']"
      ]
     },
     "execution_count": 36,
     "metadata": {},
     "output_type": "execute_result"
    }
   ],
   "source": [
    "print('work dir:', mx.workdir)\n",
    "sorted(os.listdir(maskdir))"
   ]
  },
  {
   "cell_type": "markdown",
   "metadata": {},
   "source": [
    "Then the masks must be declared in the settings file:"
   ]
  },
  {
   "cell_type": "code",
   "execution_count": 37,
   "metadata": {},
   "outputs": [
    {
     "data": {
      "text/plain": [
       "{'skymask': '/tmp/simon/musex.bmtrzspr/masks/hdfs/mask-sky.fits',\n",
       " 'mask_tpl': '/tmp/simon/musex.bmtrzspr/masks/hdfs/mask-source-%05d.fits'}"
      ]
     },
     "execution_count": 37,
     "metadata": {},
     "output_type": "execute_result"
    }
   ],
   "source": [
    "mx.conf['datasets']['photutils-hdfs']['masks']"
   ]
  },
  {
   "cell_type": "markdown",
   "metadata": {},
   "source": [
    "The ORIGIN input data also includes pre-generated masks, which are defined in the YAML file with ``mask_tpl`` and ``skymask_tpl``:"
   ]
  },
  {
   "cell_type": "code",
   "execution_count": 38,
   "metadata": {},
   "outputs": [
    {
     "data": {
      "text/plain": [
       "{'mask_tpl': '/home/simon/dev/musex/tests/data/origin_masks/source-mask-%05d.fits',\n",
       " 'skymask_tpl': '/home/simon/dev/musex/tests/data/origin_masks/sky-mask-%05d.fits'}"
      ]
     },
     "execution_count": 38,
     "metadata": {},
     "output_type": "execute_result"
    }
   ],
   "source": [
    "mx.conf['datasets']['origin']['masks']"
   ]
  },
  {
   "cell_type": "markdown",
   "metadata": {},
   "source": [
    "## Export sources"
   ]
  },
  {
   "cell_type": "code",
   "execution_count": 39,
   "metadata": {},
   "outputs": [
    {
     "data": {
      "text/plain": [
       "{'test': <DataSet(prefix=TEST, version=1.0, 1 images)>,\n",
       " 'photutils-hdfs': <DataSet(prefix=PHU, linked_cat=photutils, 2 masks)>,\n",
       " 'origin': <DataSet(prefix=ORIG, linked_cat=origin, 1 tables, 2 sources, 2 masks)>}"
      ]
     },
     "execution_count": 39,
     "metadata": {},
     "output_type": "execute_result"
    }
   ],
   "source": [
    "mx.datasets"
   ]
  },
  {
   "cell_type": "markdown",
   "metadata": {},
   "source": [
    "### Photutils"
   ]
  },
  {
   "cell_type": "code",
   "execution_count": 40,
   "metadata": {},
   "outputs": [
    {
     "name": "stdout",
     "output_type": "stream",
     "text": [
      "\u001b[1;32mINFO\u001b[0m Exporting 2 sources with hdfs dataset, size=5.0\n",
      "\u001b[1;32mINFO\u001b[0m Using datasets: hdfs,test,photutils-hdfs\n",
      "\u001b[1;33mWARNING\u001b[0m 'QOP' column not found, though it is specified in the settings file for the CONFID keyword\n",
      "\u001b[1;33mWARNING\u001b[0m 'Blend' column not found, though it is specified in the settings file for the BLEND keyword\n",
      "\u001b[1;33mWARNING\u001b[0m 'Defect' column not found, though it is specified in the settings file for the DEFECT keyword\n",
      "\u001b[1;33mWARNING\u001b[0m 'Revisit' column not found, though it is specified in the settings file for the REVISIT keyword\n",
      "\u001b[1;33mWARNING\u001b[0m 'Type' column not found, though it is specified in the settings file for the TYPE keyword\n",
      "\u001b[1;33mWARNING\u001b[0m 'refspec' column not found, though it is specified in the settings file for the REFSPEC keyword\n",
      "\u001b[1;33mWARNING\u001b[0m 'Comment' column not found, though it is specified in the settings file for the COMMENT keyword\n",
      "[Parallel(n_jobs=1)]: Using backend SequentialBackend with 1 concurrent workers.\n",
      "\u001b[1;32mINFO\u001b[0m source 00001 (-60.56792, 338.22217)\n",
      "\u001b[1;32mINFO\u001b[0m Adding FSF info from the datacube\n",
      "\u001b[1;34mDEBUG\u001b[0m Adding image: TEST_FAKE\n",
      "\u001b[1;34mDEBUG\u001b[0m MASKS: SKY: 46.2%, OBJ: 12.6%\n",
      "\u001b[1;34mDEBUG\u001b[0m Extract spectra for apertures None\n",
      "[Parallel(n_jobs=1)]: Done   1 out of   1 | elapsed:    0.2s remaining:    0.0s\n",
      "\u001b[1;32mINFO\u001b[0m source 00002 (-60.56603, 338.22372)\n",
      "\u001b[1;32mINFO\u001b[0m Adding FSF info from the datacube\n",
      "\u001b[1;34mDEBUG\u001b[0m Adding image: TEST_FAKE\n",
      "\u001b[1;34mDEBUG\u001b[0m MASKS: SKY: 89.3%, OBJ: 4.5%\n",
      "\u001b[1;34mDEBUG\u001b[0m Extract spectra for apertures None\n",
      "[Parallel(n_jobs=1)]: Done   2 out of   2 | elapsed:    0.4s remaining:    0.0s\n",
      "[Parallel(n_jobs=1)]: Done   2 out of   2 | elapsed:    0.4s finished\n",
      "\u001b[1;32mINFO\u001b[0m source 00001 (-60.56792, 338.22217)\n",
      "\u001b[1;33mWARNING\u001b[0m REFSPEC column not found, using MUSE_TOT_SKYSUB instead\n",
      "\u001b[1;34mDEBUG\u001b[0m Adding catalog PHU_CAT (2 rows)\n",
      "\u001b[1;34mDEBUG\u001b[0m IMAGES: MUSE_WHITE, MUSE_EXPMAP, TEST_FAKE, MASK_SKY, MASK_OBJ, PHU_SEGMAP\n",
      "\u001b[1;34mDEBUG\u001b[0m SPECTRA: MUSE_TOT, MUSE_WHITE, MUSE_PSF, MUSE_SKY, MUSE_TOT_SKYSUB, MUSE_WHITE_SKYSUB, MUSE_PSF_SKYSUB\n",
      "\u001b[1;32mINFO\u001b[0m fits written to /tmp/simon/musex.bmtrzspr/export/hdfs/my_cat/sources/source-00001.fits\n",
      "\u001b[1;32mINFO\u001b[0m source 00002 (-60.56603, 338.22372)\n",
      "\u001b[1;33mWARNING\u001b[0m REFSPEC column not found, using MUSE_TOT_SKYSUB instead\n",
      "\u001b[1;34mDEBUG\u001b[0m Adding catalog PHU_CAT (1 rows)\n",
      "\u001b[1;34mDEBUG\u001b[0m IMAGES: MUSE_WHITE, MUSE_EXPMAP, TEST_FAKE, MASK_SKY, MASK_OBJ, PHU_SEGMAP\n",
      "\u001b[1;34mDEBUG\u001b[0m SPECTRA: MUSE_TOT, MUSE_WHITE, MUSE_PSF, MUSE_SKY, MUSE_TOT_SKYSUB, MUSE_WHITE_SKYSUB, MUSE_PSF_SKYSUB\n",
      "\u001b[1;32mINFO\u001b[0m fits written to /tmp/simon/musex.bmtrzspr/export/hdfs/my_cat/sources/source-00002.fits\n"
     ]
    }
   ],
   "source": [
    "with mx.use_loglevel('DEBUG'):\n",
    "    mx.export_sources(mycat.select(limit=2).as_table(), masks_dataset='photutils-hdfs', verbose=True)"
   ]
  },
  {
   "cell_type": "code",
   "execution_count": 41,
   "metadata": {},
   "outputs": [
    {
     "data": {
      "text/plain": [
       "['source-00002.fits', 'source-00001.fits']"
      ]
     },
     "execution_count": 41,
     "metadata": {},
     "output_type": "execute_result"
    }
   ],
   "source": [
    "os.listdir(os.path.join(mx.exportdir, mycat.name, 'sources'))"
   ]
  },
  {
   "cell_type": "markdown",
   "metadata": {},
   "source": [
    "### Origin"
   ]
  },
  {
   "cell_type": "code",
   "execution_count": 42,
   "metadata": {},
   "outputs": [],
   "source": [
    "myori = mx.catalogs['my_oricat']"
   ]
  },
  {
   "cell_type": "code",
   "execution_count": 43,
   "metadata": {
    "ExecuteTime": {
     "end_time": "2018-02-05T11:46:20.300132Z",
     "start_time": "2018-02-05T11:46:20.286484Z"
    },
    "run_control": {
     "frozen": false,
     "read_only": false
    }
   },
   "outputs": [
    {
     "data": {
      "text/html": [
       "<i>Catalog masked=True length=2</i>\n",
       "<table id=\"table140023708670888\" class=\"table-striped table-bordered table-condensed\">\n",
       "<thead><tr><th>ID</th><th>ra</th><th>dec</th><th>x</th><th>y</th><th>n_lines</th><th>seg_label</th><th>comp</th><th>line_merged_flag</th><th>flux</th><th>STD</th><th>nsigSTD</th><th>T_GLR</th><th>nsigTGLR</th><th>purity</th><th>version</th></tr></thead>\n",
       "<thead><tr><th>int64</th><th>float64</th><th>float64</th><th>float64</th><th>float64</th><th>int64</th><th>int64</th><th>int64</th><th>bool</th><th>float64</th><th>str1</th><th>str1</th><th>float64</th><th>float64</th><th>float64</th><th>str3</th></tr></thead>\n",
       "<tr><td>1</td><td>338.2300860917844</td><td>-60.566344854991016</td><td>14.0</td><td>66.0</td><td>1</td><td>0</td><td>0</td><td>False</td><td>26.91065275337527</td><td>--</td><td>--</td><td>6.553810779966584</td><td>5.687764534465783</td><td>0.0</td><td>1.0</td></tr>\n",
       "<tr><td>2</td><td>338.2235460862445</td><td>-60.56924185540205</td><td>72.0</td><td>14.0</td><td>1</td><td>0</td><td>0</td><td>False</td><td>24.247310329287533</td><td>--</td><td>--</td><td>6.5893421075319765</td><td>5.7186006131341935</td><td>0.0</td><td>1.0</td></tr>\n",
       "</table>"
      ],
      "text/plain": [
       "<Catalog masked=True length=2>\n",
       "  ID          ra                dec         ...  purity version\n",
       "int64      float64            float64       ... float64   str3 \n",
       "----- ----------------- ------------------- ... ------- -------\n",
       "    1 338.2300860917844 -60.566344854991016 ...     0.0     1.0\n",
       "    2 338.2235460862445  -60.56924185540205 ...     0.0     1.0"
      ]
     },
     "execution_count": 43,
     "metadata": {},
     "output_type": "execute_result"
    }
   ],
   "source": [
    "myori.select(limit=2).as_table()"
   ]
  },
  {
   "cell_type": "code",
   "execution_count": 44,
   "metadata": {},
   "outputs": [
    {
     "name": "stdout",
     "output_type": "stream",
     "text": [
      "\u001b[1;32mINFO\u001b[0m Exporting 2 sources with hdfs dataset, size=5.0\n",
      "\u001b[1;32mINFO\u001b[0m Using datasets: hdfs,test,origin\n",
      "\u001b[1;33mWARNING\u001b[0m 'QOP' column not found, though it is specified in the settings file for the CONFID keyword\n",
      "\u001b[1;33mWARNING\u001b[0m 'Blend' column not found, though it is specified in the settings file for the BLEND keyword\n",
      "\u001b[1;33mWARNING\u001b[0m 'Defect' column not found, though it is specified in the settings file for the DEFECT keyword\n",
      "\u001b[1;33mWARNING\u001b[0m 'Revisit' column not found, though it is specified in the settings file for the REVISIT keyword\n",
      "\u001b[1;33mWARNING\u001b[0m 'Type' column not found, though it is specified in the settings file for the TYPE keyword\n",
      "\u001b[1;33mWARNING\u001b[0m 'refspec' column not found, though it is specified in the settings file for the REFSPEC keyword\n",
      "\u001b[1;33mWARNING\u001b[0m 'Comment' column not found, though it is specified in the settings file for the COMMENT keyword\n",
      "[Parallel(n_jobs=1)]: Using backend SequentialBackend with 1 concurrent workers.\n",
      "\u001b[1;32mINFO\u001b[0m source 00001 (-60.56634, 338.23009)\n",
      "\u001b[1;32mINFO\u001b[0m Adding FSF info from the datacube\n",
      "[Parallel(n_jobs=1)]: Done   1 out of   1 | elapsed:    1.5s remaining:    0.0s\n",
      "\u001b[1;32mINFO\u001b[0m source 00002 (-60.56924, 338.22355)\n",
      "\u001b[1;32mINFO\u001b[0m Adding FSF info from the datacube\n",
      "[Parallel(n_jobs=1)]: Done   2 out of   2 | elapsed:    3.1s remaining:    0.0s\n",
      "[Parallel(n_jobs=1)]: Done   2 out of   2 | elapsed:    3.1s finished\n",
      "\u001b[1;32mINFO\u001b[0m source 00001 (-60.56634, 338.23009)\n",
      "\u001b[1;33mWARNING\u001b[0m REFSPEC column not found, using MUSE_TOT_SKYSUB instead\n",
      "\u001b[1;32mINFO\u001b[0m fits written to /tmp/simon/musex.bmtrzspr/export/hdfs/my_oricat/sources/source-00001.fits\n",
      "\u001b[1;32mINFO\u001b[0m source 00002 (-60.56924, 338.22355)\n",
      "\u001b[1;33mWARNING\u001b[0m REFSPEC column not found, using MUSE_TOT_SKYSUB instead\n",
      "\u001b[1;32mINFO\u001b[0m fits written to /tmp/simon/musex.bmtrzspr/export/hdfs/my_oricat/sources/source-00002.fits\n"
     ]
    }
   ],
   "source": [
    "mx.export_sources(myori.select(limit=2).as_table(), masks_dataset='origin', verbose=True)"
   ]
  },
  {
   "cell_type": "code",
   "execution_count": 45,
   "metadata": {},
   "outputs": [
    {
     "data": {
      "text/plain": [
       "['source-00002.fits', 'source-00001.fits']"
      ]
     },
     "execution_count": 45,
     "metadata": {},
     "output_type": "execute_result"
    }
   ],
   "source": [
    "os.listdir(os.path.join(mx.exportdir, myori.name, 'sources'))"
   ]
  },
  {
   "cell_type": "code",
   "execution_count": 46,
   "metadata": {},
   "outputs": [
    {
     "name": "stdout",
     "output_type": "stream",
     "text": [
      "\u001b[1;32mINFO\u001b[0m ID      =                    1 / object ID %d                                   \n",
      "\u001b[1;32mINFO\u001b[0m RA      =    338.2300860917844 / RA u.degree %.7f                               \n",
      "\u001b[1;32mINFO\u001b[0m DEC     =   -60.56634485499102 / DEC u.degree %.7f                              \n",
      "\u001b[1;32mINFO\u001b[0m FROM    = 'MuseX   '           / detection software                             \n",
      "\u001b[1;32mINFO\u001b[0m FROM_V  = '0.3.dev25+g4eda71b' / version of the detection software              \n",
      "\u001b[1;32mINFO\u001b[0m CUBE    = 'cube.fits'          / datacube                                       \n",
      "\u001b[1;32mINFO\u001b[0m CUBE_V  = '1.24    '           / version of the datacube                        \n",
      "\u001b[1;32mINFO\u001b[0m SRC_V   = '' / Source Version                                                   \n",
      "\u001b[1;32mINFO\u001b[0m SIZE    =                    5                                                  \n",
      "\u001b[1;32mINFO\u001b[0m EXPMEAN =                 52.0 / Mean value of EXPMAP                           \n",
      "\u001b[1;32mINFO\u001b[0m EXPMIN  =                   52 / Minimum value of EXPMAP                        \n",
      "\u001b[1;32mINFO\u001b[0m EXPMAX  =                   52 / Maximum value of EXPMAP                        \n",
      "\u001b[1;32mINFO\u001b[0m FSFMODE = 'MOFFAT1 '                                                            \n",
      "\u001b[1;32mINFO\u001b[0m FSF00BET=                  2.8                                                  \n",
      "\u001b[1;32mINFO\u001b[0m FSF00FWA=                  0.8                                                  \n",
      "\u001b[1;32mINFO\u001b[0m FSF00FWB=               -3E-05                                                  \n",
      "\u001b[1;32mINFO\u001b[0m NSKYMSK =                  500 / Size of MASK_SKY in spaxels                    \n",
      "\u001b[1;32mINFO\u001b[0m FSKYMSK =                 80.0 / Relative Size of MASK_SKY in %                 \n",
      "\u001b[1;32mINFO\u001b[0m NOBJMSK =                   82 / Size of MASK_OBJ in spaxels                    \n",
      "\u001b[1;32mINFO\u001b[0m FOBJMSK =                13.12 / Relative Size of MASK_OBJ in %                 \n",
      "\u001b[1;32mINFO\u001b[0m CATALOG = 'origin  '                                                            \n",
      "\u001b[1;32mINFO\u001b[0m REFSPEC = 'MUSE_TOT_SKYSUB'    / Name of reference spectra                      \n",
      "\u001b[1;32mINFO\u001b[0m REFCAT  = 'ORIG_CAT'                                                            \n",
      "\u001b[1;32mINFO\u001b[0m FORMAT  = '0.6     '           / Version of the Source format                   \n",
      "\u001b[1;32mINFO\u001b[0m HISTORY [] inserted from input catalog (John Doe 2019-04-29T09:30:41.733372)    \n",
      "\u001b[1;32mINFO\u001b[0m HISTORY [] source created (John Doe 2019-04-29)                                 \n",
      "\u001b[1;32mINFO\u001b[0m 11 spectra: MUSE_SKY MUSE_TOT_SKYSUB MUSE_WHITE_SKYSUB MUSE_TOT ORI_CORR MUSE_PSF_SKYSUB MUSE_PSF ORI_SPEC_1 ORI_CORR_1_SKYSUB ORI_CORR_1 MUSE_WHITE\n",
      "\u001b[1;32mINFO\u001b[0m 12 images: MUSE_WHITE MUSE_EXPMAP TEST_FAKE ORI_MAXMAP ORI_MASK_OBJ ORI_MASK_SKY ORI_SEGMAP_LABEL ORI_SEGMAP_MERGED NB_LINE_1 ORI_CORR_1 MASK_SKY MASK_OBJ\n",
      "\u001b[1;32mINFO\u001b[0m 2 cubes: MUSE_CUBE ORI_CORREL\n",
      "\u001b[1;32mINFO\u001b[0m 4 tables: ORI_CAT ORI_LINES NB_PAR ORIG_CAT\n"
     ]
    }
   ],
   "source": [
    "src = Source.from_file(os.path.join(mx.exportdir, myori.name, 'sources', 'source-00001.fits'))\n",
    "src.info()"
   ]
  },
  {
   "cell_type": "markdown",
   "metadata": {
    "run_control": {
     "frozen": false,
     "read_only": false
    }
   },
   "source": [
    "## MarZ"
   ]
  },
  {
   "cell_type": "markdown",
   "metadata": {},
   "source": [
    "### Export with Photutils"
   ]
  },
  {
   "cell_type": "markdown",
   "metadata": {
    "run_control": {
     "frozen": false,
     "read_only": false
    }
   },
   "source": [
    "First, we need to set the `REFSPEC` column to tell which spectrum must be used : (this may change later to allow more flexibility, currently it is possible to set a `refspec` value for each source)."
   ]
  },
  {
   "cell_type": "code",
   "execution_count": 47,
   "metadata": {
    "ExecuteTime": {
     "end_time": "2018-02-05T11:47:19.482854Z",
     "start_time": "2018-02-05T11:47:19.458222Z"
    },
    "run_control": {
     "frozen": false,
     "read_only": false
    }
   },
   "outputs": [
    {
     "name": "stdout",
     "output_type": "stream",
     "text": [
      "\u001b[1;32mINFO\u001b[0m creating column 'my_cat.refspec'\n"
     ]
    }
   ],
   "source": [
    "mycat.update_column('refspec', 'MUSE_PSF_SKYSUB')"
   ]
  },
  {
   "cell_type": "code",
   "execution_count": 48,
   "metadata": {
    "ExecuteTime": {
     "end_time": "2018-02-05T11:47:30.466393Z",
     "start_time": "2018-02-05T11:47:28.185743Z"
    },
    "run_control": {
     "frozen": false,
     "read_only": false
    },
    "scrolled": false
   },
   "outputs": [
    {
     "name": "stdout",
     "output_type": "stream",
     "text": [
      "\u001b[1;32mINFO\u001b[0m Exporting 2 sources with hdfs dataset, size=5.0\n",
      "\u001b[1;32mINFO\u001b[0m Using datasets: hdfs\n",
      "\u001b[1;33mWARNING\u001b[0m 'QOP' column not found, though it is specified in the settings file for the CONFID keyword\n",
      "\u001b[1;33mWARNING\u001b[0m 'Blend' column not found, though it is specified in the settings file for the BLEND keyword\n",
      "\u001b[1;33mWARNING\u001b[0m 'Defect' column not found, though it is specified in the settings file for the DEFECT keyword\n",
      "\u001b[1;33mWARNING\u001b[0m 'Revisit' column not found, though it is specified in the settings file for the REVISIT keyword\n",
      "\u001b[1;33mWARNING\u001b[0m 'Type' column not found, though it is specified in the settings file for the TYPE keyword\n",
      "\u001b[1;33mWARNING\u001b[0m 'Comment' column not found, though it is specified in the settings file for the COMMENT keyword\n",
      "[Parallel(n_jobs=1)]: Using backend SequentialBackend with 1 concurrent workers.\n",
      "\u001b[1;32mINFO\u001b[0m source 00001 (-60.56792, 338.22217)\n",
      "\u001b[1;32mINFO\u001b[0m Adding FSF info from the datacube\n",
      "\u001b[1;34mDEBUG\u001b[0m MASKS: SKY: 46.2%, OBJ: 12.6%\n",
      "\u001b[1;34mDEBUG\u001b[0m Extract spectra for apertures None\n",
      "[Parallel(n_jobs=1)]: Done   1 out of   1 | elapsed:    0.1s remaining:    0.0s\n",
      "\u001b[1;32mINFO\u001b[0m source 00002 (-60.56603, 338.22372)\n",
      "\u001b[1;32mINFO\u001b[0m Adding FSF info from the datacube\n",
      "\u001b[1;34mDEBUG\u001b[0m MASKS: SKY: 89.3%, OBJ: 4.5%\n",
      "\u001b[1;34mDEBUG\u001b[0m Extract spectra for apertures None\n",
      "[Parallel(n_jobs=1)]: Done   2 out of   2 | elapsed:    0.3s remaining:    0.0s\n",
      "[Parallel(n_jobs=1)]: Done   2 out of   2 | elapsed:    0.3s finished\n",
      "\u001b[1;32mINFO\u001b[0m source 00001 (-60.56792, 338.22217)\n",
      "\u001b[1;34mDEBUG\u001b[0m Add REFSPEC='MUSE_PSF_SKYSUB'\n",
      "\u001b[1;34mDEBUG\u001b[0m IMAGES: MUSE_WHITE, MUSE_EXPMAP, MASK_SKY, MASK_OBJ\n",
      "\u001b[1;34mDEBUG\u001b[0m SPECTRA: MUSE_TOT, MUSE_WHITE, MUSE_PSF, MUSE_SKY, MUSE_TOT_SKYSUB, MUSE_WHITE_SKYSUB, MUSE_PSF_SKYSUB\n",
      "\u001b[1;32mINFO\u001b[0m source 00002 (-60.56603, 338.22372)\n",
      "\u001b[1;34mDEBUG\u001b[0m Add REFSPEC='MUSE_PSF_SKYSUB'\n",
      "\u001b[1;34mDEBUG\u001b[0m IMAGES: MUSE_WHITE, MUSE_EXPMAP, MASK_SKY, MASK_OBJ\n",
      "\u001b[1;34mDEBUG\u001b[0m SPECTRA: MUSE_TOT, MUSE_WHITE, MUSE_PSF, MUSE_SKY, MUSE_TOT_SKYSUB, MUSE_WHITE_SKYSUB, MUSE_PSF_SKYSUB\n",
      "\u001b[1;32mINFO\u001b[0m Writing /tmp/simon/musex.bmtrzspr/export/hdfs/my_cat/marz/marz-my_cat-hdfs.fits\n"
     ]
    }
   ],
   "source": [
    "with mx.use_loglevel('DEBUG'):\n",
    "    mx.export_marz(mycat.select(limit=2), masks_dataset='photutils-hdfs', verbose=True)"
   ]
  },
  {
   "cell_type": "markdown",
   "metadata": {
    "run_control": {
     "frozen": false,
     "read_only": false
    }
   },
   "source": [
    "Once the spectra have been processed in MarZ, the results file can be ingested into MuseX:"
   ]
  },
  {
   "cell_type": "markdown",
   "metadata": {},
   "source": [
    "### Import the MarZ file"
   ]
  },
  {
   "cell_type": "code",
   "execution_count": 49,
   "metadata": {
    "ExecuteTime": {
     "end_time": "2018-02-05T11:55:42.360600Z",
     "start_time": "2018-02-05T11:55:42.268309Z"
    },
    "run_control": {
     "frozen": false,
     "read_only": false
    },
    "scrolled": false
   },
   "outputs": [
    {
     "name": "stdout",
     "output_type": "stream",
     "text": [
      "\u001b[1;32mINFO\u001b[0m ingesting catalog\n"
     ]
    },
    {
     "data": {
      "application/vnd.jupyter.widget-view+json": {
       "model_id": "febb5462c28d4751b36e3ddee2541862",
       "version_major": 2,
       "version_minor": 0
      },
      "text/plain": [
       "HBox(children=(IntProgress(value=0, max=13), HTML(value='')))"
      ]
     },
     "metadata": {},
     "output_type": "display_data"
    },
    {
     "name": "stdout",
     "output_type": "stream",
     "text": [
      "\n",
      "\u001b[1;32mINFO\u001b[0m 13 rows inserted\n"
     ]
    }
   ],
   "source": [
    "mx.import_marz(os.path.join(DATADIR, 'marz-my-cat-hdfs_full_SCO.mz'), mycat)"
   ]
  },
  {
   "cell_type": "code",
   "execution_count": 50,
   "metadata": {
    "ExecuteTime": {
     "end_time": "2018-02-05T11:55:43.953944Z",
     "start_time": "2018-02-05T11:55:43.945164Z"
    },
    "run_control": {
     "frozen": false,
     "read_only": false
    }
   },
   "outputs": [
    {
     "name": "stdout",
     "output_type": "stream",
     "text": [
      "MarzCatalog 'marz' - 13 rows.\n",
      "\n",
      "Metadata:\n",
      "- creation_date : 2019-04-29T09:30:51.498304\n",
      "- type          : marz\n",
      "- parent_cat    : None\n",
      "- raname        : RA\n",
      "- decname       : DEC\n",
      "- idname        : ID\n",
      "- maxid         : 13\n",
      "- query         : None\n",
      "- version_meta  : None\n",
      "- CAT3_TS       : None\n",
      "\n",
      "Columns:\n",
      "- _id      : INTEGER \n",
      "- ID       : INTEGER \n",
      "- RA       : FLOAT \n",
      "- DEC      : FLOAT \n",
      "- Mag      : FLOAT \n",
      "- Type     : INTEGER \n",
      "- AutoTID  : INTEGER \n",
      "- AutoTN   : TEXT \n",
      "- AutoZ    : FLOAT \n",
      "- AutoXCor : FLOAT \n",
      "- FinTID   : INTEGER \n",
      "- FinTN    : TEXT \n",
      "- FinZ     : FLOAT \n",
      "- QOP      : INTEGER \n",
      "- Blend    : INTEGER \n",
      "- Defect   : INTEGER \n",
      "- Revisit  : INTEGER \n",
      "- HstIds   : TEXT \n",
      "- Comment  : TEXT \n",
      "- catalog  : TEXT \n",
      "- version  : TEXT \n"
     ]
    }
   ],
   "source": [
    "mx.marzcat.info()"
   ]
  },
  {
   "cell_type": "code",
   "execution_count": 51,
   "metadata": {
    "ExecuteTime": {
     "end_time": "2018-02-05T11:55:55.611415Z",
     "start_time": "2018-02-05T11:55:55.561159Z"
    },
    "run_control": {
     "frozen": false,
     "read_only": false
    }
   },
   "outputs": [
    {
     "data": {
      "text/html": [
       "<i>Catalog masked=True length=3</i>\n",
       "<table id=\"table140024360807392\" class=\"table-striped table-bordered table-condensed\">\n",
       "<thead><tr><th>_id</th><th>ID</th><th>RA</th><th>DEC</th><th>Mag</th><th>Type</th><th>AutoTID</th><th>AutoTN</th><th>AutoZ</th><th>AutoXCor</th><th>FinTID</th><th>FinTN</th><th>FinZ</th><th>QOP</th><th>Blend</th><th>Defect</th><th>Revisit</th><th>HstIds</th><th>Comment</th><th>catalog</th><th>version</th></tr></thead>\n",
       "<thead><tr><th>int64</th><th>int64</th><th>float64</th><th>float64</th><th>float64</th><th>int64</th><th>int64</th><th>str55</th><th>float64</th><th>float64</th><th>int64</th><th>str55</th><th>float64</th><th>int64</th><th>int64</th><th>int64</th><th>int64</th><th>str5</th><th>str1</th><th>str6</th><th>str1</th></tr></thead>\n",
       "<tr><td>1</td><td>1</td><td>338.222167</td><td>-60.567919</td><td>-99.0</td><td>0</td><td>11</td><td>MUSE-35 HDF-S z-bin 1 - Ha emitter</td><td>-0.00258</td><td>9.79608</td><td>11</td><td>MUSE-35 HDF-S z-bin 1 - Ha emitter</td><td>-0.00258</td><td>2</td><td>0</td><td>0</td><td>0</td><td>--</td><td>--</td><td>my_cat</td><td>1</td></tr>\n",
       "<tr><td>2</td><td>2</td><td>338.223717</td><td>-60.566031</td><td>-99.0</td><td>2</td><td>14</td><td>MUSE-38 HDF-S z-bin 3 - [O II] emitter - weak continuum</td><td>0.31325</td><td>11.90192</td><td>14</td><td>MUSE-38 HDF-S z-bin 3 - [O II] emitter - weak continuum</td><td>0.31325</td><td>2</td><td>0</td><td>0</td><td>0</td><td>24348</td><td>--</td><td>my_cat</td><td>1</td></tr>\n",
       "<tr><td>3</td><td>3</td><td>338.231225</td><td>-60.565948</td><td>-99.0</td><td>6</td><td>18</td><td>MUSE-42 HDF-S z-bin 5 - Ly-a emitter - weak continuum</td><td>3.0343</td><td>25.8933</td><td>18</td><td>MUSE-42 HDF-S z-bin 5 - Ly-a emitter - weak continuum</td><td>3.0343</td><td>3</td><td>0</td><td>0</td><td>0</td><td>24353</td><td>--</td><td>my_cat</td><td>1</td></tr>\n",
       "</table>"
      ],
      "text/plain": [
       "<Catalog masked=True length=3>\n",
       " _id    ID      RA        DEC       Mag   ... HstIds Comment catalog version\n",
       "int64 int64  float64    float64   float64 ...  str5    str1    str6    str1 \n",
       "----- ----- ---------- ---------- ------- ... ------ ------- ------- -------\n",
       "    1     1 338.222167 -60.567919   -99.0 ...     --      --  my_cat       1\n",
       "    2     2 338.223717 -60.566031   -99.0 ...  24348      --  my_cat       1\n",
       "    3     3 338.231225 -60.565948   -99.0 ...  24353      --  my_cat       1"
      ]
     },
     "execution_count": 51,
     "metadata": {},
     "output_type": "execute_result"
    }
   ],
   "source": [
    "mx.marzcat.select(limit=3).as_table()"
   ]
  },
  {
   "cell_type": "markdown",
   "metadata": {},
   "source": [
    "### Origin\n",
    "\n",
    "In the Origin case we have sources containing the spectra that we want to use instead of extracting spectra from the MUSE cube."
   ]
  },
  {
   "cell_type": "code",
   "execution_count": 52,
   "metadata": {},
   "outputs": [
    {
     "data": {
      "text/plain": [
       "<Catalog('my_oricat', 4 rows)>"
      ]
     },
     "execution_count": 52,
     "metadata": {},
     "output_type": "execute_result"
    }
   ],
   "source": [
    "myori"
   ]
  },
  {
   "cell_type": "code",
   "execution_count": 53,
   "metadata": {},
   "outputs": [
    {
     "name": "stdout",
     "output_type": "stream",
     "text": [
      "\u001b[1;32mINFO\u001b[0m ID      =                    1 / object ID %d                                   \n",
      "\u001b[1;32mINFO\u001b[0m RA      =    338.2300860917844 / RA u.degree %.7f                               \n",
      "\u001b[1;32mINFO\u001b[0m DEC     =   -60.56634485499102 / DEC u.degree %.7f                              \n",
      "\u001b[1;32mINFO\u001b[0m FROM    = 'ORIGIN  '           / detection software                             \n",
      "\u001b[1;32mINFO\u001b[0m FROM_V  = '3.2.dev128+g554d26a' / version of the detection software             \n",
      "\u001b[1;32mINFO\u001b[0m CUBE    = 'cube.fits'          / datacube                                       \n",
      "\u001b[1;32mINFO\u001b[0m CUBE_V  = '' / version of the datacube                                          \n",
      "\u001b[1;32mINFO\u001b[0m SRC_V   = '0.1     '           / Source version                                 \n",
      "\u001b[1;32mINFO\u001b[0m SRC_TS  = '2019-04-12T18:06:01.927833'                                          \n",
      "\u001b[1;32mINFO\u001b[0m CAT3_TS = '2019-04-12T18:05:59.435812'                                          \n",
      "\u001b[1;32mINFO\u001b[0m OR_X    =                 14.0 / x position in pixels                           \n",
      "\u001b[1;32mINFO\u001b[0m OR_Y    =                 66.0 / y position in pixels                           \n",
      "\u001b[1;32mINFO\u001b[0m OR_SEG  =                    0 / Label in the segmentation map                  \n",
      "\u001b[1;32mINFO\u001b[0m OR_V    = '3.2.dev128+g554d26a' / ORIGIN version                                \n",
      "\u001b[1;32mINFO\u001b[0m OR_FLUX =    26.91065275337527 / flux maximum in all lines                      \n",
      "\u001b[1;32mINFO\u001b[0m OR_PMAX =                  0.0 / maximum purity in all lines                    \n",
      "\u001b[1;32mINFO\u001b[0m OR_TGLR =    6.553810779966584 / T_GLR max value in all lines                   \n",
      "\u001b[1;32mINFO\u001b[0m OR_NTGLR=    5.687764534465783 / max of T_GLR/std(T_GLR) in all lines           \n",
      "\u001b[1;32mINFO\u001b[0m OR_PROF = '/home/simon/dev/origin/origin/Dico_FWHM_2_12.fits' / OR input, spectr\n",
      "\u001b[1;32mINFO\u001b[0m OR_FSF  = 'MOFFAT1 '           / OR input, FSF cube                             \n",
      "\u001b[1;32mINFO\u001b[0m OR_THL00=                 1.18 / OR input threshold per area                    \n",
      "\u001b[1;32mINFO\u001b[0m OR_NA   =                    1 / OR number of areas                             \n",
      "\u001b[1;32mINFO\u001b[0m OR_DCT  =                   10 / OR input, DCT order                            \n",
      "\u001b[1;32mINFO\u001b[0m OR_PFAA =                  0.2 / OR input, PFA used to create the area map      \n",
      "\u001b[1;32mINFO\u001b[0m OR_SIZA = '' / OR input, maximum area size in pixels                            \n",
      "\u001b[1;32mINFO\u001b[0m OR_MSIZA=                  100 / OR input, minimum area size in pixels          \n",
      "\u001b[1;32mINFO\u001b[0m OR_PFAT =                 0.01 / OR input, PFA test                             \n",
      "\u001b[1;32mINFO\u001b[0m OR_FBG  =                   50 / OR input: fraction of spectra estimated        \n",
      "\u001b[1;32mINFO\u001b[0m OR_ITMAX=                  100 / OR input, maximum number of iterations         \n",
      "\u001b[1;32mINFO\u001b[0m OR_NG   =                    3 / OR input, connectivity size                    \n",
      "\u001b[1;32mINFO\u001b[0m OR_DXY  =                    3 / OR input, spatial tolerance for merging (pix)  \n",
      "\u001b[1;32mINFO\u001b[0m OR_DZ   =                    5 / OR input, spectral tolerance for merging (pix) \n",
      "\u001b[1;32mINFO\u001b[0m OR_NXZ  =                    0 / OR input, grid Nxy                             \n",
      "\u001b[1;32mINFO\u001b[0m COMP_CAT=                    0 / 1/0 (1=Pre-detected in STD, 0=detected in CORRE\n",
      "\u001b[1;32mINFO\u001b[0m OR_TH   =                  6.5 / OR input, threshold                            \n",
      "\u001b[1;32mINFO\u001b[0m OR_PURI =                  0.8 / OR input, purity                               \n",
      "\u001b[1;32mINFO\u001b[0m FSFMODE = 'MOFFAT1 '                                                            \n",
      "\u001b[1;32mINFO\u001b[0m FSF00BET=                  2.8                                                  \n",
      "\u001b[1;32mINFO\u001b[0m FSF00FWA=                  0.8                                                  \n",
      "\u001b[1;32mINFO\u001b[0m FSF00FWB=               -3E-05                                                  \n",
      "\u001b[1;32mINFO\u001b[0m REFSPEC = 'ORI_CORR_1_SKYSUB'                                                   \n",
      "\u001b[1;32mINFO\u001b[0m FORMAT  = '0.6     '           / Version of the Source format                   \n",
      "\u001b[1;32mINFO\u001b[0m HISTORY [0.1] Source created with ORIGIN ( 2019-04-12)                          \n",
      "\u001b[1;32mINFO\u001b[0m 11 spectra: MUSE_SKY MUSE_TOT_SKYSUB MUSE_WHITE_SKYSUB MUSE_TOT MUSE_WHITE ORI_CORR MUSE_PSF_SKYSUB MUSE_PSF ORI_SPEC_1 ORI_CORR_1_SKYSUB ORI_CORR_1\n",
      "\u001b[1;32mINFO\u001b[0m 8 images: MUSE_WHITE ORI_MAXMAP ORI_MASK_OBJ ORI_MASK_SKY ORI_SEGMAP_LABEL ORI_SEGMAP_MERGED NB_LINE_1 ORI_CORR_1\n",
      "\u001b[1;32mINFO\u001b[0m 2 cubes: MUSE_CUBE ORI_CORREL\n",
      "\u001b[1;32mINFO\u001b[0m 3 tables: ORI_CAT ORI_LINES NB_PAR\n",
      "\u001b[1;32mINFO\u001b[0m 1 lines\n"
     ]
    }
   ],
   "source": [
    "mx.datasets['origin'].get_source(1).info()"
   ]
  },
  {
   "cell_type": "code",
   "execution_count": 54,
   "metadata": {},
   "outputs": [],
   "source": [
    "#myori.update_column('refspec', 'ORI_SPEC_1')\n",
    "#myori.select(limit=2, columns=['ID', 'refspec']).as_table()"
   ]
  },
  {
   "cell_type": "code",
   "execution_count": 55,
   "metadata": {
    "ExecuteTime": {
     "end_time": "2018-02-05T11:47:30.466393Z",
     "start_time": "2018-02-05T11:47:28.185743Z"
    },
    "run_control": {
     "frozen": false,
     "read_only": false
    },
    "scrolled": false
   },
   "outputs": [
    {
     "name": "stdout",
     "output_type": "stream",
     "text": [
      "\u001b[1;32mINFO\u001b[0m Writing /tmp/simon/musex.bmtrzspr/export/hdfs/my_oricat/marz/marz-my_oricat-hdfs.fits\n"
     ]
    }
   ],
   "source": [
    "mx.export_marz(myori.select(limit=2), sources_dataset='origin', skyspec='MUSE_SKY')"
   ]
  },
  {
   "cell_type": "markdown",
   "metadata": {
    "run_control": {
     "frozen": false,
     "read_only": false
    }
   },
   "source": [
    "## Joining catalogs\n",
    "\n",
    "When the user catalog is ready to be exported, one need to gather the data from multiple catalogs (the input catalog, MarZ, etc.). This can be done with a SQL *join*.\n",
    "\n",
    "By default `.join` renames the columns with the format `{catname}_{colname}` to avoid name conflicts. But it is also possible to specify manually the column names (see below)."
   ]
  },
  {
   "cell_type": "code",
   "execution_count": 56,
   "metadata": {
    "ExecuteTime": {
     "end_time": "2018-02-05T11:56:52.669107Z",
     "start_time": "2018-02-05T11:56:52.597985Z"
    },
    "run_control": {
     "frozen": false,
     "read_only": false
    }
   },
   "outputs": [
    {
     "data": {
      "text/html": [
       "<i>Catalog masked=True length=2</i>\n",
       "<table id=\"table140023651523552\" class=\"table-striped table-bordered table-condensed\">\n",
       "<thead><tr><th>my_cat_id</th><th>my_cat_ra</th><th>my_cat_dec</th><th>my_cat_refspec</th><th>photutils_id</th><th>photutils_ra</th><th>photutils_dec</th><th>photutils_xcentroid</th><th>photutils_ycentroid</th><th>photutils_source_sum</th><th>photutils_source_sum_err</th><th>photutils_area</th><th>photutils_eccentricity</th><th>photutils_orientation</th><th>photutils_ellipticity</th><th>photutils_elongation</th><th>photutils_version</th><th>marz__id</th><th>marz_ID</th><th>marz_RA</th><th>marz_DEC</th><th>marz_Mag</th><th>marz_Type</th><th>marz_AutoTID</th><th>marz_AutoTN</th><th>marz_AutoZ</th><th>marz_AutoXCor</th><th>marz_FinTID</th><th>marz_FinTN</th><th>marz_FinZ</th><th>marz_QOP</th><th>marz_Blend</th><th>marz_Defect</th><th>marz_Revisit</th><th>marz_HstIds</th><th>marz_Comment</th><th>marz_catalog</th><th>marz_version</th></tr></thead>\n",
       "<thead><tr><th>int64</th><th>float64</th><th>float64</th><th>str15</th><th>int64</th><th>float64</th><th>float64</th><th>float64</th><th>float64</th><th>float64</th><th>float64</th><th>float64</th><th>float64</th><th>float64</th><th>float64</th><th>float64</th><th>str3</th><th>int64</th><th>int64</th><th>float64</th><th>float64</th><th>float64</th><th>int64</th><th>int64</th><th>str57</th><th>float64</th><th>float64</th><th>int64</th><th>str57</th><th>float64</th><th>int64</th><th>int64</th><th>int64</th><th>int64</th><th>str5</th><th>str1</th><th>str6</th><th>str1</th></tr></thead>\n",
       "<tr><td>1</td><td>338.22216683331436</td><td>-60.56791899034823</td><td>MUSE_PSF_SKYSUB</td><td>1</td><td>338.22216683331436</td><td>-60.56791899034823</td><td>84.17464353709585</td><td>37.8735833857062</td><td>17.611382994800806</td><td>3.8582196214768953</td><td>79.0</td><td>0.43393342946114793</td><td>0.8580410669352785</td><td>0.09905506339394576</td><td>1.1099457462595834</td><td>1.0</td><td>1</td><td>1</td><td>338.222167</td><td>-60.567919</td><td>-99.0</td><td>0</td><td>11</td><td>MUSE-35 HDF-S z-bin 1 - Ha emitter</td><td>-0.00258</td><td>9.79608</td><td>11</td><td>MUSE-35 HDF-S z-bin 1 - Ha emitter</td><td>-0.00258</td><td>2</td><td>0</td><td>0</td><td>0</td><td>--</td><td>--</td><td>my_cat</td><td>1</td></tr>\n",
       "<tr><td>2</td><td>338.223717115442</td><td>-60.566030603445334</td><td>MUSE_PSF_SKYSUB</td><td>2</td><td>338.223717115442</td><td>-60.566030603445334</td><td>70.39134668054363</td><td>71.85060521460757</td><td>5.36989851295948</td><td>2.3579307859187533</td><td>28.0</td><td>0.5278369963327637</td><td>-0.3707806312431074</td><td>0.1506543075387936</td><td>1.1773769018622235</td><td>1.0</td><td>2</td><td>2</td><td>338.223717</td><td>-60.566031</td><td>-99.0</td><td>2</td><td>14</td><td>MUSE-38 HDF-S z-bin 3 - [O II] emitter - weak continuum</td><td>0.31325</td><td>11.90192</td><td>14</td><td>MUSE-38 HDF-S z-bin 3 - [O II] emitter - weak continuum</td><td>0.31325</td><td>2</td><td>0</td><td>0</td><td>0</td><td>24348</td><td>--</td><td>my_cat</td><td>1</td></tr>\n",
       "</table>"
      ],
      "text/plain": [
       "<Catalog masked=True length=2>\n",
       "my_cat_id     my_cat_ra           my_cat_dec     ... marz_catalog marz_version\n",
       "  int64        float64             float64       ...     str6         str1    \n",
       "--------- ------------------ ------------------- ... ------------ ------------\n",
       "        1 338.22216683331436  -60.56791899034823 ...       my_cat            1\n",
       "        2   338.223717115442 -60.566030603445334 ...       my_cat            1"
      ]
     },
     "execution_count": 56,
     "metadata": {},
     "output_type": "execute_result"
    }
   ],
   "source": [
    "res = mycat.join([photcat, mx.marzcat], whereclause=(mx.marzcat.c.catalog == mycat.name))\n",
    "res.as_table()[:2]"
   ]
  },
  {
   "cell_type": "markdown",
   "metadata": {
    "run_control": {
     "frozen": false,
     "read_only": false
    }
   },
   "source": [
    "## Select columns for the final catalog\n",
    "\n",
    "To avoid column name conflicts, for now the user needs to select explicitely the columns and rename if needed. This must be done with SQLAlchemy columns objects:"
   ]
  },
  {
   "cell_type": "code",
   "execution_count": 57,
   "metadata": {
    "ExecuteTime": {
     "end_time": "2018-02-05T11:03:20.334197Z",
     "start_time": "2018-02-05T11:03:20.329202Z"
    }
   },
   "outputs": [
    {
     "data": {
      "text/plain": [
       "\"['photutils.id', 'photutils.ra', 'photutils.dec', 'photutils.xcentroid', 'photutils.ycentroid', 'photutils.source_sum', 'photutils.source_sum_err', 'photutils.area', 'photutils.eccentricity', 'photutils.orientation', 'photutils.ellipticity', 'photutils.elongation', 'photutils.version']\""
      ]
     },
     "execution_count": 57,
     "metadata": {},
     "output_type": "execute_result"
    }
   ],
   "source": [
    "str(photcat.c)"
   ]
  },
  {
   "cell_type": "code",
   "execution_count": 58,
   "metadata": {
    "ExecuteTime": {
     "end_time": "2018-02-05T11:58:45.458889Z",
     "start_time": "2018-02-05T11:58:45.449285Z"
    },
    "run_control": {
     "frozen": false,
     "read_only": false
    }
   },
   "outputs": [],
   "source": [
    "photcols = [photcat.c[name] for name in ['source_sum', 'source_sum_err', 'area', 'eccentricity', \n",
    "                                         'orientation', 'ellipticity', 'elongation', 'version']]\n",
    "\n",
    "marzcols = [mx.marzcat.c[name] for name in ('FinZ', 'QOP', 'Type', 'Blend', 'Defect', 'Revisit', 'Comment')]"
   ]
  },
  {
   "cell_type": "markdown",
   "metadata": {},
   "source": [
    "It is possible to rename a column with `.label`:"
   ]
  },
  {
   "cell_type": "code",
   "execution_count": 59,
   "metadata": {
    "ExecuteTime": {
     "end_time": "2018-02-05T11:59:45.519854Z",
     "start_time": "2018-02-05T11:59:45.516242Z"
    }
   },
   "outputs": [],
   "source": [
    "photcols[2] = photcols[2].label('pixel_area')"
   ]
  },
  {
   "cell_type": "markdown",
   "metadata": {},
   "source": [
    "Then we concatenate the column names from the user catalog, MarZ, and the input catalog:"
   ]
  },
  {
   "cell_type": "code",
   "execution_count": 60,
   "metadata": {
    "ExecuteTime": {
     "end_time": "2018-02-05T11:59:46.380232Z",
     "start_time": "2018-02-05T11:59:46.362119Z"
    }
   },
   "outputs": [
    {
     "data": {
      "text/plain": [
       "[Column('id', INTEGER(), table=<my_cat>, primary_key=True, nullable=False),\n",
       " Column('ra', FLOAT(), table=<my_cat>),\n",
       " Column('dec', FLOAT(), table=<my_cat>),\n",
       " Column('refspec', TEXT(), table=<my_cat>),\n",
       " Column('FinZ', FLOAT(), table=<marz>),\n",
       " Column('QOP', INTEGER(), table=<marz>),\n",
       " Column('Type', INTEGER(), table=<marz>),\n",
       " Column('Blend', INTEGER(), table=<marz>),\n",
       " Column('Defect', INTEGER(), table=<marz>),\n",
       " Column('Revisit', INTEGER(), table=<marz>),\n",
       " Column('Comment', TEXT(), table=<marz>),\n",
       " Column('source_sum', FLOAT(), table=<photutils>),\n",
       " Column('source_sum_err', FLOAT(), table=<photutils>),\n",
       " <sqlalchemy.sql.elements.Label object at 0x7f59cedab5c0>,\n",
       " Column('eccentricity', FLOAT(), table=<photutils>),\n",
       " Column('orientation', FLOAT(), table=<photutils>),\n",
       " Column('ellipticity', FLOAT(), table=<photutils>),\n",
       " Column('elongation', FLOAT(), table=<photutils>),\n",
       " Column('version', TEXT(), table=<photutils>)]"
      ]
     },
     "execution_count": 60,
     "metadata": {},
     "output_type": "execute_result"
    }
   ],
   "source": [
    "mycat.c + marzcols + photcols"
   ]
  },
  {
   "cell_type": "markdown",
   "metadata": {},
   "source": [
    "And we can proceed with the join. Note that by default the join uses the `id` column of each catalog, but it is possible to specify others keys with the `keys` arguments. Also, the `mx.marzcat` table can store the results for multiple catalogs, so we need to select the results for our catalog with the `whereclause`:"
   ]
  },
  {
   "cell_type": "code",
   "execution_count": 61,
   "metadata": {
    "ExecuteTime": {
     "end_time": "2018-02-05T12:04:01.227280Z",
     "start_time": "2018-02-05T12:04:01.180658Z"
    },
    "run_control": {
     "frozen": false,
     "read_only": false
    }
   },
   "outputs": [
    {
     "data": {
      "text/html": [
       "<i>Catalog masked=True length=2</i>\n",
       "<table id=\"table140023699263952\" class=\"table-striped table-bordered table-condensed\">\n",
       "<thead><tr><th>id</th><th>ra</th><th>dec</th><th>refspec</th><th>FinZ</th><th>QOP</th><th>Type</th><th>Blend</th><th>Defect</th><th>Revisit</th><th>Comment</th><th>source_sum</th><th>source_sum_err</th><th>pixel_area</th><th>eccentricity</th><th>orientation</th><th>ellipticity</th><th>elongation</th><th>version</th></tr></thead>\n",
       "<thead><tr><th>int64</th><th>float64</th><th>float64</th><th>str15</th><th>float64</th><th>int64</th><th>int64</th><th>int64</th><th>int64</th><th>int64</th><th>str1</th><th>float64</th><th>float64</th><th>float64</th><th>float64</th><th>float64</th><th>float64</th><th>float64</th><th>str3</th></tr></thead>\n",
       "<tr><td>1</td><td>338.22216683331436</td><td>-60.56791899034823</td><td>MUSE_PSF_SKYSUB</td><td>-0.00258</td><td>2</td><td>0</td><td>0</td><td>0</td><td>0</td><td>--</td><td>17.611382994800806</td><td>3.8582196214768953</td><td>79.0</td><td>0.43393342946114793</td><td>0.8580410669352785</td><td>0.09905506339394576</td><td>1.1099457462595834</td><td>1.0</td></tr>\n",
       "<tr><td>2</td><td>338.223717115442</td><td>-60.566030603445334</td><td>MUSE_PSF_SKYSUB</td><td>0.31325</td><td>2</td><td>2</td><td>0</td><td>0</td><td>0</td><td>--</td><td>5.36989851295948</td><td>2.3579307859187533</td><td>28.0</td><td>0.5278369963327637</td><td>-0.3707806312431074</td><td>0.1506543075387936</td><td>1.1773769018622235</td><td>1.0</td></tr>\n",
       "</table>"
      ],
      "text/plain": [
       "<Catalog masked=True length=2>\n",
       "  id          ra                 dec         ...     elongation     version\n",
       "int64      float64             float64       ...      float64         str3 \n",
       "----- ------------------ ------------------- ... ------------------ -------\n",
       "    1 338.22216683331436  -60.56791899034823 ... 1.1099457462595834     1.0\n",
       "    2   338.223717115442 -60.566030603445334 ... 1.1773769018622235     1.0"
      ]
     },
     "execution_count": 61,
     "metadata": {},
     "output_type": "execute_result"
    }
   ],
   "source": [
    "res = mycat.join(\n",
    "    [mx.marzcat, photcat], \n",
    "    whereclause=(mx.marzcat.c.catalog == mycat.name), \n",
    "    columns=mycat.c + marzcols + photcols, \n",
    "    use_labels=False,\n",
    "    limit=2\n",
    ").as_table()\n",
    "res"
   ]
  },
  {
   "cell_type": "markdown",
   "metadata": {
    "run_control": {
     "frozen": false,
     "read_only": false
    }
   },
   "source": [
    "## Export sources"
   ]
  },
  {
   "cell_type": "code",
   "execution_count": 62,
   "metadata": {
    "ExecuteTime": {
     "end_time": "2018-02-05T11:03:20.419572Z",
     "start_time": "2018-02-05T11:03:20.416261Z"
    },
    "run_control": {
     "frozen": false,
     "read_only": false
    }
   },
   "outputs": [],
   "source": [
    "# Set the REFSPEC column to tell which spectrum must be used \n",
    "# mycat.update_column('refspec', 'MUSE_PSF_SKYSUB')"
   ]
  },
  {
   "cell_type": "markdown",
   "metadata": {},
   "source": [
    "Currently, to get a redshift and confidence number in the `Source` objects, MuseX looks at specific columns (`Z` and `Confid`) in the table. So here we rename the columns (we could have done this within the SQL join above, with `.label`):"
   ]
  },
  {
   "cell_type": "code",
   "execution_count": 63,
   "metadata": {},
   "outputs": [],
   "source": [
    "res.rename_column('FinZ', 'Z')\n",
    "#res.rename_column('QOP', 'Confid')"
   ]
  },
  {
   "cell_type": "code",
   "execution_count": 64,
   "metadata": {},
   "outputs": [
    {
     "data": {
      "text/html": [
       "<i>Catalog masked=True length=2</i>\n",
       "<table id=\"table140023699263952\" class=\"table-striped table-bordered table-condensed\">\n",
       "<thead><tr><th>id</th><th>ra</th><th>dec</th><th>refspec</th><th>Z</th><th>QOP</th><th>Type</th><th>Blend</th><th>Defect</th><th>Revisit</th><th>Comment</th><th>source_sum</th><th>source_sum_err</th><th>pixel_area</th><th>eccentricity</th><th>orientation</th><th>ellipticity</th><th>elongation</th><th>version</th></tr></thead>\n",
       "<thead><tr><th>int64</th><th>float64</th><th>float64</th><th>str15</th><th>float64</th><th>int64</th><th>int64</th><th>int64</th><th>int64</th><th>int64</th><th>str1</th><th>float64</th><th>float64</th><th>float64</th><th>float64</th><th>float64</th><th>float64</th><th>float64</th><th>str3</th></tr></thead>\n",
       "<tr><td>1</td><td>338.22216683331436</td><td>-60.56791899034823</td><td>MUSE_PSF_SKYSUB</td><td>-0.00258</td><td>2</td><td>0</td><td>0</td><td>0</td><td>0</td><td>--</td><td>17.611382994800806</td><td>3.8582196214768953</td><td>79.0</td><td>0.43393342946114793</td><td>0.8580410669352785</td><td>0.09905506339394576</td><td>1.1099457462595834</td><td>1.0</td></tr>\n",
       "<tr><td>2</td><td>338.223717115442</td><td>-60.566030603445334</td><td>MUSE_PSF_SKYSUB</td><td>0.31325</td><td>2</td><td>2</td><td>0</td><td>0</td><td>0</td><td>--</td><td>5.36989851295948</td><td>2.3579307859187533</td><td>28.0</td><td>0.5278369963327637</td><td>-0.3707806312431074</td><td>0.1506543075387936</td><td>1.1773769018622235</td><td>1.0</td></tr>\n",
       "</table>"
      ],
      "text/plain": [
       "<Catalog masked=True length=2>\n",
       "  id          ra                 dec         ...     elongation     version\n",
       "int64      float64             float64       ...      float64         str3 \n",
       "----- ------------------ ------------------- ... ------------------ -------\n",
       "    1 338.22216683331436  -60.56791899034823 ... 1.1099457462595834     1.0\n",
       "    2   338.223717115442 -60.566030603445334 ... 1.1773769018622235     1.0"
      ]
     },
     "execution_count": 64,
     "metadata": {},
     "output_type": "execute_result"
    }
   ],
   "source": [
    "res"
   ]
  },
  {
   "cell_type": "markdown",
   "metadata": {},
   "source": [
    "And we do the export, here for only one source selected by its ID. We also ask for the creation of a PDF file with plots:"
   ]
  },
  {
   "cell_type": "code",
   "execution_count": 65,
   "metadata": {},
   "outputs": [],
   "source": [
    "mx.set_loglevel('INFO')"
   ]
  },
  {
   "cell_type": "code",
   "execution_count": 66,
   "metadata": {
    "ExecuteTime": {
     "end_time": "2018-02-05T12:07:09.714892Z",
     "start_time": "2018-02-05T12:07:08.374628Z"
    },
    "run_control": {
     "frozen": false,
     "read_only": false
    },
    "scrolled": false
   },
   "outputs": [
    {
     "name": "stdout",
     "output_type": "stream",
     "text": [
      "\u001b[1;32mINFO\u001b[0m Exporting 2 sources with hdfs dataset, size=5.0\n",
      "\u001b[1;32mINFO\u001b[0m Using datasets: hdfs,test,photutils-hdfs\n"
     ]
    },
    {
     "data": {
      "application/vnd.jupyter.widget-view+json": {
       "model_id": "8502bcf396374b98ab31e11edc10298c",
       "version_major": 2,
       "version_minor": 0
      },
      "text/plain": [
       "HBox(children=(IntProgress(value=0, max=2), HTML(value='')))"
      ]
     },
     "metadata": {},
     "output_type": "display_data"
    },
    {
     "name": "stdout",
     "output_type": "stream",
     "text": [
      "\n"
     ]
    },
    {
     "data": {
      "application/vnd.jupyter.widget-view+json": {
       "model_id": "832202cc889942bdaed5cc97562d8c15",
       "version_major": 2,
       "version_minor": 0
      },
      "text/plain": [
       "HBox(children=(IntProgress(value=0, max=2), HTML(value='')))"
      ]
     },
     "metadata": {},
     "output_type": "display_data"
    },
    {
     "name": "stdout",
     "output_type": "stream",
     "text": [
      "\n"
     ]
    }
   ],
   "source": [
    "mx.export_sources(res, create_pdf=True, size=5, srcvers='0.1', apertures=[0.4], masks_dataset='photutils-hdfs')"
   ]
  },
  {
   "cell_type": "markdown",
   "metadata": {},
   "source": [
    "The output files are placed in the *work directory*:"
   ]
  },
  {
   "cell_type": "code",
   "execution_count": 67,
   "metadata": {
    "ExecuteTime": {
     "end_time": "2018-02-05T12:07:37.380068Z",
     "start_time": "2018-02-05T12:07:37.369249Z"
    }
   },
   "outputs": [
    {
     "name": "stdout",
     "output_type": "stream",
     "text": [
      "/tmp/simon/musex.bmtrzspr/export/hdfs/my_cat/sources\n"
     ]
    },
    {
     "data": {
      "text/plain": [
       "['source-00001.fits',\n",
       " 'source-00001.pdf',\n",
       " 'source-00002.fits',\n",
       " 'source-00002.pdf']"
      ]
     },
     "execution_count": 67,
     "metadata": {},
     "output_type": "execute_result"
    }
   ],
   "source": [
    "outdir = os.path.join(mx.exportdir, mycat.name, 'sources')\n",
    "print(outdir)\n",
    "sorted(os.listdir(outdir))"
   ]
  },
  {
   "cell_type": "markdown",
   "metadata": {},
   "source": [
    "A MPDAF source file has been generated, with all the information both in the header and in the extensions (images, spectra):"
   ]
  },
  {
   "cell_type": "code",
   "execution_count": 68,
   "metadata": {
    "ExecuteTime": {
     "end_time": "2018-02-05T11:03:21.924324Z",
     "start_time": "2018-02-05T11:03:21.840749Z"
    },
    "run_control": {
     "frozen": false,
     "read_only": false
    }
   },
   "outputs": [
    {
     "name": "stdout",
     "output_type": "stream",
     "text": [
      "\u001b[1;32mINFO\u001b[0m ID      =                    1 / object ID %d                                   \n",
      "\u001b[1;32mINFO\u001b[0m RA      =    338.2221668333144 / RA u.degree %.7f                               \n",
      "\u001b[1;32mINFO\u001b[0m DEC     =   -60.56791899034823 / DEC u.degree %.7f                              \n",
      "\u001b[1;32mINFO\u001b[0m FROM    = 'MuseX   '           / detection software                             \n",
      "\u001b[1;32mINFO\u001b[0m FROM_V  = '0.3.dev25+g4eda71b' / version of the detection software              \n",
      "\u001b[1;32mINFO\u001b[0m CUBE    = 'cube.fits'          / datacube                                       \n",
      "\u001b[1;32mINFO\u001b[0m CUBE_V  = '1.24    '           / version of the datacube                        \n",
      "\u001b[1;32mINFO\u001b[0m SRC_V   = '0.1     '           / Source Version                                 \n",
      "\u001b[1;32mINFO\u001b[0m SIZE    =                    5                                                  \n",
      "\u001b[1;32mINFO\u001b[0m EXPMEAN =                 51.0 / Mean value of EXPMAP                           \n",
      "\u001b[1;32mINFO\u001b[0m EXPMIN  =                   51 / Minimum value of EXPMAP                        \n",
      "\u001b[1;32mINFO\u001b[0m EXPMAX  =                   51 / Maximum value of EXPMAP                        \n",
      "\u001b[1;32mINFO\u001b[0m FSFMODE = 'MOFFAT1 '                                                            \n",
      "\u001b[1;32mINFO\u001b[0m FSF00BET=                  2.8                                                  \n",
      "\u001b[1;32mINFO\u001b[0m FSF00FWA=                  0.8                                                  \n",
      "\u001b[1;32mINFO\u001b[0m FSF00FWB=               -3E-05                                                  \n",
      "\u001b[1;32mINFO\u001b[0m NSKYMSK =                  289 / Size of MASK_SKY in spaxels                    \n",
      "\u001b[1;32mINFO\u001b[0m FSKYMSK =                46.24 / Relative Size of MASK_SKY in %                 \n",
      "\u001b[1;32mINFO\u001b[0m NOBJMSK =                   79 / Size of MASK_OBJ in spaxels                    \n",
      "\u001b[1;32mINFO\u001b[0m FOBJMSK =                12.64 / Relative Size of MASK_OBJ in %                 \n",
      "\u001b[1;32mINFO\u001b[0m CATALOG = 'photutils'                                                           \n",
      "\u001b[1;32mINFO\u001b[0m CONFID  =                    2 / Z Confidence Flag                              \n",
      "\u001b[1;32mINFO\u001b[0m BLEND   =                    0 / Blending flag                                  \n",
      "\u001b[1;32mINFO\u001b[0m DEFECT  =                    0 / Defect flag                                    \n",
      "\u001b[1;32mINFO\u001b[0m REVISIT =                    0 / Reconciliation Revisit Flag                    \n",
      "\u001b[1;32mINFO\u001b[0m TYPE    =                    0 / Object classification                          \n",
      "\u001b[1;32mINFO\u001b[0m REFSPEC = 'MUSE_PSF_SKYSUB'    / Name of reference spectra                      \n",
      "\u001b[1;32mINFO\u001b[0m SEGMAP  = 'PHU_SEGMAP'                                                          \n",
      "\u001b[1;32mINFO\u001b[0m REFCAT  = 'PHU_CAT '                                                            \n",
      "\u001b[1;32mINFO\u001b[0m FORMAT  = '0.6     '           / Version of the Source format                   \n",
      "\u001b[1;32mINFO\u001b[0m HISTORY [0.1] inserted from input cata (John Doe 2019-04-29T09:30:41.570793)    \n",
      "\u001b[1;32mINFO\u001b[0m HISTORY [0.1] source created (John Doe 2019-04-29)                              \n",
      "\u001b[1;32mINFO\u001b[0m 9 spectra: MUSE_TOT MUSE_APER_0.4 MUSE_WHITE MUSE_PSF MUSE_SKY MUSE_TOT_SKYSUB MUSE_APER_0.4_SKYSUB MUSE_WHITE_SKYSUB MUSE_PSF_SKYSUB\n",
      "\u001b[1;32mINFO\u001b[0m 6 images: MUSE_WHITE MUSE_EXPMAP TEST_FAKE MASK_SKY MASK_OBJ PHU_SEGMAP\n",
      "\u001b[1;32mINFO\u001b[0m 1 cubes: MUSE_CUBE\n",
      "\u001b[1;32mINFO\u001b[0m 1 tables: PHU_CAT\n",
      "\u001b[1;32mINFO\u001b[0m 1 redshifts\n"
     ]
    }
   ],
   "source": [
    "from mpdaf.sdetect import Source\n",
    "Source.from_file(f'{outdir}/source-00001.fits').info()"
   ]
  },
  {
   "cell_type": "markdown",
   "metadata": {
    "run_control": {
     "frozen": false,
     "read_only": false
    }
   },
   "source": [
    "A PDF file was generated as well."
   ]
  },
  {
   "cell_type": "code",
   "execution_count": 69,
   "metadata": {
    "ExecuteTime": {
     "end_time": "2018-02-05T12:18:48.418663Z",
     "start_time": "2018-02-05T12:18:48.101047Z"
    }
   },
   "outputs": [
    {
     "data": {
      "image/png": "[encoded data removed]",
      "text/plain": [
       "<IPython.core.display.Image object>"
      ]
     },
     "metadata": {},
     "output_type": "display_data"
    }
   ],
   "source": [
    "import subprocess\n",
    "subprocess.run(f'pdftoppm -singlefile {outdir}/source-00001.pdf {tmpdir.name}/out && convert {tmpdir.name}/out.ppm {tmpdir.name}/out.png', shell=True)\n",
    "\n",
    "from IPython.display import Image\n",
    "display(Image(f'{tmpdir.name}/out.png'))"
   ]
  },
  {
   "cell_type": "code",
   "execution_count": 70,
   "metadata": {
    "ExecuteTime": {
     "end_time": "2018-02-05T11:04:44.544639Z",
     "start_time": "2018-02-05T11:04:44.539544Z"
    }
   },
   "outputs": [],
   "source": [
    "# import webbrowser\n",
    "# webbrowser.open(f'{outdir}/source-00001.pdf')"
   ]
  },
  {
   "cell_type": "code",
   "execution_count": 71,
   "metadata": {
    "ExecuteTime": {
     "end_time": "2018-02-05T11:03:22.128798Z",
     "start_time": "2018-02-05T11:03:22.125484Z"
    },
    "run_control": {
     "frozen": false,
     "read_only": false
    }
   },
   "outputs": [],
   "source": [
    "# from IPython.display import IFrame\n",
    "# display(IFrame(f'{outdir}/source-00001.pdf', width=600, height=300))"
   ]
  },
  {
   "cell_type": "code",
   "execution_count": 72,
   "metadata": {
    "ExecuteTime": {
     "end_time": "2018-02-05T12:19:14.438811Z",
     "start_time": "2018-02-05T12:19:14.431325Z"
    },
    "run_control": {
     "frozen": false,
     "read_only": false
    }
   },
   "outputs": [],
   "source": [
    "# Cleanup temp directory\n",
    "tmpdir.cleanup()"
   ]
  },
  {
   "cell_type": "code",
   "execution_count": null,
   "metadata": {},
   "outputs": [],
   "source": []
  }
 ],
 "metadata": {
  "kernelspec": {
   "display_name": "Python 3",
   "language": "python",
   "name": "python3"
  },
  "language_info": {
   "codemirror_mode": {
    "name": "ipython",
    "version": 3
   },
   "file_extension": ".py",
   "mimetype": "text/x-python",
   "name": "python",
   "nbconvert_exporter": "python",
   "pygments_lexer": "ipython3",
   "version": "3.7.2"
  },
  "nav_menu": {},
  "toc": {
   "colors": {
    "hover_highlight": "#DAA520",
    "running_highlight": "#FF0000",
    "selected_highlight": "#FFD700"
   },
   "moveMenuLeft": true,
   "nav_menu": {
    "height": "392px",
    "width": "252px"
   },
   "navigate_menu": true,
   "number_sections": true,
   "sideBar": true,
   "threshold": 6,
   "toc_cell": false,
   "toc_position": {
    "height": "647px",
    "left": "0px",
    "right": "1388px",
    "top": "111px",
    "width": "212px"
   },
   "toc_section_display": "block",
   "toc_window_display": true
  }
 },
 "nbformat": 4,
 "nbformat_minor": 2
}
